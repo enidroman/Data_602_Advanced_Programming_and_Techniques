{
  "nbformat": 4,
  "nbformat_minor": 0,
  "metadata": {
    "colab": {
      "provenance": [],
      "authorship_tag": "ABX9TyOgVtBgRibJEUyCzCYxRwdD",
      "include_colab_link": true
    },
    "kernelspec": {
      "name": "python3",
      "display_name": "Python 3"
    },
    "language_info": {
      "name": "python"
    }
  },
  "cells": [
    {
      "cell_type": "markdown",
      "metadata": {
        "id": "view-in-github",
        "colab_type": "text"
      },
      "source": [
        "<a href=\"https://colab.research.google.com/github/enidroman/Data_602_Advanced_Programming_and_Techniques/blob/main/QOTW_3.ipynb\" target=\"_parent\"><img src=\"https://colab.research.google.com/assets/colab-badge.svg\" alt=\"Open In Colab\"/></a>"
      ]
    },
    {
      "cell_type": "code",
      "execution_count": 1,
      "metadata": {
        "colab": {
          "base_uri": "https://localhost:8080/"
        },
        "id": "VasJZiCMavDe",
        "outputId": "4e48588c-c046-4732-b55b-654a73fb716a"
      },
      "outputs": [
        {
          "output_type": "stream",
          "name": "stdout",
          "text": [
            "['cat', 'dog', 'manta ray', 'horse', 'crouching tiger']\n"
          ]
        }
      ],
      "source": [
        "# 1. Create a list called animals that contain the following: cat, dog, manta ray, horse, crouching tiger.\n",
        "\n",
        "animals = ['cat', 'dog', 'manta ray', 'horse', 'crouching tiger']\n",
        "print(animals)"
      ]
    },
    {
      "cell_type": "code",
      "source": [
        "# 2. Repeat question 1 and loop through and print each item in the animal list by iterating through an index number and using range(). Set a variable len_animals to the length of the animal list.\n",
        "\n",
        "animals = ['cat', 'dog', 'manta ray', 'horse', 'crouching tiger']\n",
        "i = 0\n",
        "for i in range(len(animals)):\n",
        "    print(animals[i])\n",
        "len_animals=len(animals)\n",
        "print(len_animals)\n"
      ],
      "metadata": {
        "colab": {
          "base_uri": "https://localhost:8080/"
        },
        "id": "6f7iBSg4cLrT",
        "outputId": "1f8410f1-8baf-4ab0-a9e3-0279b50fb1b3"
      },
      "execution_count": 6,
      "outputs": [
        {
          "output_type": "stream",
          "name": "stdout",
          "text": [
            "cat\n",
            "dog\n",
            "manta ray\n",
            "horse\n",
            "crouching tiger\n",
            "5\n"
          ]
        }
      ]
    },
    {
      "cell_type": "code",
      "source": [
        "# 3. Programmatically reorganize the countdown list below in descending order and return the value of the 5th element in the sorted countdown list.\n",
        "\n",
        "#   The 5th element will be stored in the variable the_fifth_element, which currently below has a dummy value of -999.\n",
        "#   Remember, the index number of the 5th element is not 5\n",
        "\n",
        "countdown = [9, 8, 7, 5, 4, 2, 1, 6, 10, 3, 0, -5]\n",
        "the_fifth_element = -999\n",
        "\n",
        "countdown.sort()\n",
        "countdown.reverse()\n",
        "the_fifth_element=countdown[4]\n",
        "print (countdown, the_fifth_element)"
      ],
      "metadata": {
        "colab": {
          "base_uri": "https://localhost:8080/"
        },
        "id": "SQ8rKvu3fz0Z",
        "outputId": "87741123-9414-4fa3-883d-af18777a9543"
      },
      "execution_count": 11,
      "outputs": [
        {
          "output_type": "stream",
          "name": "stdout",
          "text": [
            "[10, 9, 8, 7, 6, 5, 4, 3, 2, 1, 0, -5] 6\n"
          ]
        }
      ]
    },
    {
      "cell_type": "code",
      "source": [
        "# 4. Write a program to add item 7000 after 6000 in the following Python List\n",
        "\n",
        "list1 = [10, 20, [300, 400, [5000, 6000], 500], 30, 40]\n",
        "\n",
        "#Expected output:\n",
        "#[10, 20, [300, 400, [5000, 6000, 7000], 500], 30, 40]\n",
        "\n",
        "list1[2][2] += [7000]\n",
        "\n",
        "print(list1)"
      ],
      "metadata": {
        "colab": {
          "base_uri": "https://localhost:8080/"
        },
        "id": "9njmF7lHgN00",
        "outputId": "33a49304-56e7-4f04-b578-7dc9098d69b1"
      },
      "execution_count": 15,
      "outputs": [
        {
          "output_type": "stream",
          "name": "stdout",
          "text": [
            "[10, 20, [300, 400, [5000, 6000, 7000], 500], 30, 40]\n"
          ]
        }
      ]
    },
    {
      "cell_type": "code",
      "source": [
        "# 5. Write a program to remove all occurrences of item 20 in the following list.\n",
        "\n",
        "list2 = [5, 20, 30, 15, 20, 30, 20]\n",
        "\n",
        "while 20 in list2:\n",
        "    list2.remove(20)\n",
        "print(list2)"
      ],
      "metadata": {
        "colab": {
          "base_uri": "https://localhost:8080/"
        },
        "id": "NlcpMwhNnRzw",
        "outputId": "96fb9b1d-4292-43a0-f9be-c1f5883b9b45"
      },
      "execution_count": 24,
      "outputs": [
        {
          "output_type": "stream",
          "name": "stdout",
          "text": [
            "[5, 30, 15, 30]\n"
          ]
        }
      ]
    },
    {
      "cell_type": "code",
      "source": [
        "# 6. Using the following dictionary .. (Use python to solve for the answer.)\n",
        "\n",
        "dict = {\"Course\": \"DATA 606\", \"Program\": \"MSDS\", \"School\": \"CUNYSPS\"}\n",
        "\n",
        "# a. What is the name of the course?\n",
        "print(dict[\"Course\"])\n",
        "\n",
        "# b. Change the course to DATA602\n",
        "dict[\"Course\"] = \"DATA 602\"\n",
        "print(dict[\"Course\"])\n",
        "\n",
        "# c. Add new information to the dictionary - \"Professor\" with \"Schettini\"\n",
        "dict[\"Professor\"]= \"Schettini\"\n",
        "print(dict)\n",
        "\n",
        "# d. Using the len function, find how many keys there are in the dictionary. \n",
        "print(\"Length of dictionary:\", len(dict))\n"
      ],
      "metadata": {
        "colab": {
          "base_uri": "https://localhost:8080/"
        },
        "id": "qxXYEYUWpp2z",
        "outputId": "15533136-8e9f-436f-82ab-d55f4337e084"
      },
      "execution_count": 37,
      "outputs": [
        {
          "output_type": "stream",
          "name": "stdout",
          "text": [
            "DATA 606\n",
            "DATA 602\n",
            "{'Course': 'DATA 602', 'Program': 'MSDS', 'School': 'CUNYSPS', 'Professor': 'Schettini'}\n",
            "Length of dictionary: 4\n"
          ]
        }
      ]
    },
    {
      "cell_type": "code",
      "source": [
        "# 7.  Write a Python program to change Brad’s salary to 7500 in the following dictionary.\n",
        "\n",
        "sample_dict = {\n",
        "    'emp1': {'name': 'Amanda', 'salary': 8200},\n",
        "    'emp2': {'name': 'John', 'salary': 8000},\n",
        "    'emp3': {'name': 'Brad', 'salary': 700}\n",
        "}\n",
        "\n",
        "sample_dict['emp3']['salary'] = 7500\n",
        "print(sample_dict)"
      ],
      "metadata": {
        "colab": {
          "base_uri": "https://localhost:8080/"
        },
        "id": "6E3CWDZ04CxH",
        "outputId": "2b2fc9f8-c3ed-4429-aeb2-1909b2898494"
      },
      "execution_count": 39,
      "outputs": [
        {
          "output_type": "stream",
          "name": "stdout",
          "text": [
            "{'emp1': {'name': 'Amanda', 'salary': 8200}, 'emp2': {'name': 'John', 'salary': 8000}, 'emp3': {'name': 'Brad', 'salary': 7500}}\n"
          ]
        }
      ]
    }
  ]
}