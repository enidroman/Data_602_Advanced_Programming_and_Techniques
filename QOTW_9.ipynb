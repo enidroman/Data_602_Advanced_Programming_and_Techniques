{
  "cells": [
    {
      "cell_type": "markdown",
      "metadata": {
        "id": "view-in-github",
        "colab_type": "text"
      },
      "source": [
        "<a href=\"https://colab.research.google.com/github/enidroman/Data_602_Advanced_Programming_and_Techniques/blob/main/QOTW_9.ipynb\" target=\"_parent\"><img src=\"https://colab.research.google.com/assets/colab-badge.svg\" alt=\"Open In Colab\"/></a>"
      ]
    },
    {
      "cell_type": "markdown",
      "metadata": {
        "id": "_bzQ4_fqTnRP"
      },
      "source": [
        "1. How would you delete:\n",
        "\n",
        "* An index from your dataframe\n",
        "\n"
      ]
    },
    {
      "cell_type": "markdown",
      "metadata": {
        "id": "G0TLJNcwktNJ"
      },
      "source": [
        "Index.delete() function returns a new object with the passed locations deleted. We can pass more than one locations to be deleted in the form of list.\n",
        "\n",
        "ex. Index.delete(loc)\n",
        "\n",
        "To delete the first label in the given Index\n",
        "\n",
        "ex. df.delete(0)\n",
        "\n",
        "To delete values present at 2nd, 3rd, 4th and 5th place in the Index.\n",
        "\n",
        "ex. df.delete([2, 3, 4, 5])"
      ]
    },
    {
      "cell_type": "markdown",
      "metadata": {
        "id": "HXaaCgT6btCJ"
      },
      "source": [
        "* A column from your dataframe"
      ]
    },
    {
      "cell_type": "markdown",
      "metadata": {
        "id": "xBgyY2GNbyMi"
      },
      "source": [
        "1. Pandas .drop() function can drop column or row. This behaviour is controlled by the axis parameter. To specify that we want to drop a column, we need to provide axis=1 as an argument to the drop function. If you don't provide axis=1 then the .drop() function will default to axis=0. This means that the function will remove rows and not columns.\n",
        "\n",
        "ex. df.drop(['your_column_name'], axis=1)\n",
        "\n",
        "2. To remove a column permanently from your dataframe you will need to provide one more parameter inplace=True.\n",
        "\n",
        "ex. df.drop(['your_column_name'], axis=1, inplace=True) or\n",
        "df.drop(columns=['your_column_name'], axis=1, inplace=True)\n",
        "\n",
        "3. It is also possible to drop a column using its index rather than its name. It is harder to read code when the index is used.\n",
        "\n",
        "ex. df.drop(df.columns[[index_column]], axis = 1, inplace = True)\n",
        "\n",
        "4. Pandas .drop() function can also be used to remove multiple columns. To do so, one simply needs to provide names of columns that should be deleted. \n",
        "\n",
        "ex. df.drop(['your_column1', 'your_column2'], axis=1, inplace = True) or\n",
        "df.drop(columns=['your_column1', 'your_column2'], axis=1, inplace = True)\n",
        "\n",
        "5. You can also delete multiple columns with column index using the command.\n",
        "\n",
        "ex. df.drop(df.columns[[index_column1, index_column2]], axis=1, inplace = True)\n"
      ]
    },
    {
      "cell_type": "markdown",
      "metadata": {
        "id": "5vKkztFSbfcq"
      },
      "source": [
        "* A row from your dataframe"
      ]
    },
    {
      "cell_type": "markdown",
      "metadata": {
        "id": "yYIB81EObZI1"
      },
      "source": [
        "It is also easy to delete rows of a dataframe. We can use the same .drop() function to delete rows. To drop one or more rows from a Pandas dataframe, we need to specify the row index(s) that need to be dropped and axis=0 argument. Here the axis=0 argument specifies that we want to drop rows instead of dropping columns. Remember that this is the default parameter for the .drop() function and so it is optional.\n",
        "\n",
        "1. To delete a specific row from a dataframe with its index use the following command.\n",
        "\n",
        "ex. df.drop([row_index], axis=0, inplace = True) or\n",
        "df.drop([row_index], inplace = True)\n",
        "\n",
        "2. You can also set custom indexes on your dataframe. In this case, to drop the specified row, you will need to use its custom Intex.\n",
        "\n",
        "ex. df.drop(index='custom_index', axis=0, inplace = True) or\n",
        "df.drop('custom_index', axis=0, inplace = True) or\n",
        "df.drop('custom_index', inplace = True) or\n",
        "df.drop(['custom_index'], inplace = True)"
      ]
    },
    {
      "cell_type": "markdown",
      "metadata": {
        "id": "-eMlIZ38naPi"
      },
      "source": [
        "2. How do you iterate over a pandas dataframe?\n",
        "\n",
        "Basic iteration (for i in object) produces −\n",
        "\n",
        "Series − values\n",
        "\n",
        "DataFrame − column labels\n",
        "\n",
        "Panel − item labels\n",
        "\n",
        "Iterating a DataFrame gives column names.\n",
        "\n",
        "To iterate over the rows of the DataFrame, we can use the following functions −\n",
        "\n",
        "iteritems() − to iterate over the (key,value) pairs\n",
        "\n",
        "iterrows() − iterate over the rows as (index,series) pairs\n",
        "\n",
        "itertuples() − iterate over the rows as namedtuples\n",
        "\n",
        "1. iteritems()\n",
        "\n",
        "Iterates over each column as key, value pair with label as key and column value as a Series object.\n",
        "\n",
        "ex. df = pd.DataFrame(np.random.randn(4,3),columns=['col1','col2','col3'])for key,value in df.iteritems():\n",
        "   print key,value\n",
        "\n",
        "Each column is iterated separately as a key-value pair in a Series.\n",
        "\n",
        "2. iterrows()\n",
        "\n",
        "iterrows() returns the iterator yielding each index value along with a series containing the data in each row.\n",
        "\n",
        "ex. df = pd.DataFrame(np.random.randn(4,3),columns = ['col1','col2','col3']) for row_index,row in df.iterrows():\n",
        "   print row_index,row\n",
        "\n",
        "Because iterrows() iterate over the rows, it doesn't preserve the data type across the row. 0,1,2 are the row indices and col1,col2,col3 are column indices.\n",
        "\n",
        "3. itertuples()\n",
        "\n",
        "itertuples() method will return an iterator yielding a named tuple for each row in the DataFrame. The first element of the tuple will be the row’s corresponding index value, while the remaining values are the row values.\n",
        "\n",
        "ex. df = pd.DataFrame(np.random.randn(4,3),columns = ['col1','col2','col3']) for row in df.itertuples():\n",
        "    print row\n",
        "\n",
        "Do not try to modify any object while iterating. Iterating is meant for reading and the iterator returns a copy of the original object (a view), thus the changes will not reflect on the original object.\n",
        "\n"
      ]
    },
    {
      "cell_type": "markdown",
      "metadata": {
        "id": "mxpArfhrnc3q"
      },
      "source": [
        "3. How would you convert a string to a date?"
      ]
    },
    {
      "cell_type": "markdown",
      "metadata": {
        "id": "OaKs6WJT8Dt_"
      },
      "source": [
        "The datetime.strptime() method returns a datetime object that matches the date_string parsed by the format. Both arguments are required and must be strings.\n",
        "\n",
        "The syntax for the datetime.strptime() method is:\n",
        "\n",
        "datetime.strptime(date_string, format)"
      ]
    },
    {
      "cell_type": "code",
      "execution_count": 7,
      "metadata": {
        "colab": {
          "base_uri": "https://localhost:8080/"
        },
        "id": "l3c_-TZ_CoI-",
        "outputId": "5201628e-80ab-4710-c2d6-aa6388b44ec0"
      },
      "outputs": [
        {
          "output_type": "stream",
          "name": "stdout",
          "text": [
            "<class 'datetime.date'>\n",
            "2022-09-19\n"
          ]
        }
      ],
      "source": [
        "#The following example converts a date string into a datetime.date() object, and prints the class type and value of the resulting object:\n",
        "from datetime import datetime\n",
        "\n",
        "date_str = '09-19-2022'\n",
        "\n",
        "date_object = datetime.strptime(date_str, '%m-%d-%Y').date()\n",
        "print(type(date_object))\n",
        "print(date_object)  # printed in default format"
      ]
    },
    {
      "cell_type": "markdown",
      "metadata": {
        "id": "R6gQNR7WyChx"
      },
      "source": [
        "4. What is data aggregation?  Give an example in Python. "
      ]
    },
    {
      "cell_type": "markdown",
      "metadata": {
        "id": "tSk2_xjVyE8H"
      },
      "source": [
        "Data aggregation is the process where raw data is gathered and expressed in a summary form for statistical analysis.\n",
        "\n",
        "For example, raw data can be aggregated over a given time period to provide statistics such as average, minimum, maximum, sum, and count. After the data is aggregated and written to a view or report, you can analyze the aggregated data to gain insights about particular resources or resource groups. There are two types of data aggregation:\n",
        "\n",
        "Time aggregation\n",
        "\n",
        "All data points for a single resource over a specified time period.\n",
        "\n",
        "Spatial aggregation\n",
        "\n",
        "All data points for a group of resources over a specified time period.\n",
        "\n",
        "The Dataframe.aggregate() function is used to apply aggregation across one or more columns. Some of the most frequently used aggregations are as follows:\n",
        "\n",
        "sum: Returns the sum of the values for the requested axis\n",
        "\n",
        "min: Returns the minimum of the values for the requested axis\n",
        "\n",
        "max: Returns the maximum of the values for the requested axis\n",
        "\n",
        "We can apply aggregation in a DataFrame, df, as df.aggregate() or df.agg()."
      ]
    },
    {
      "cell_type": "code",
      "execution_count": 8,
      "metadata": {
        "colab": {
          "base_uri": "https://localhost:8080/"
        },
        "id": "RngUCYFayFkg",
        "outputId": "a751e97b-6cd4-4e55-dbb2-c8981974e135"
      },
      "outputs": [
        {
          "output_type": "stream",
          "name": "stdout",
          "text": [
            "       x     y\n",
            "sum  120  1454\n",
            "min   30    42\n",
            "max   50  1112\n"
          ]
        }
      ],
      "source": [
        "# Example\n",
        "import pandas as pd\n",
        "\n",
        "data = {\n",
        "  \"x\": [50, 40, 30],\n",
        "  \"y\": [300, 1112, 42]\n",
        "}\n",
        "\n",
        "df = pd.DataFrame(data)\n",
        "\n",
        "x = df.aggregate([\"sum\", \"min\", \"max\"])\n",
        "\n",
        "print(x)"
      ]
    },
    {
      "cell_type": "markdown",
      "metadata": {
        "id": "wEaLtbp63x3Z"
      },
      "source": [
        "5. What is GroupBy in Pandas (groupby()? Give an example in Python.\n"
      ]
    },
    {
      "cell_type": "markdown",
      "metadata": {
        "id": "xgM4izXB34TL"
      },
      "source": [
        "Pandas groupby is used for grouping the data according to the categories and apply a function to the categories. It also helps to aggregate data efficiently.\n",
        "\n",
        "Pandas dataframe.groupby() function is used to split the data into groups based on some criteria. pandas objects can be split on any of their axes. The abstract definition of grouping is to provide a mapping of labels to group names.\n",
        "\n",
        "Syntax: DataFrame.groupby(by=None, axis=0, level=None, as_index=True, sort=True, group_keys=True, squeeze=False, **kwargs)\n",
        "\n",
        "Parameters :\n",
        "\n",
        "by : mapping, function, str, or iterable\n",
        "\n",
        "axis : int, default 0\n",
        "\n",
        "level : If the axis is a MultiIndex (hierarchical), group by a particular level or levels\n",
        "\n",
        "as_index : For aggregated output, return object with group labels as the index. Only relevant for DataFrame input. as_index=False is effectively “SQL-style” grouped output\n",
        "\n",
        "sort : Sort group keys. Get better performance by turning this off. Note this does not influence the order of observations within each group. groupby preserves the order of rows within each group.\n",
        "\n",
        "group_keys : When calling apply, add group keys to index to identify pieces\n",
        "\n",
        "squeeze : Reduce the dimensionality of the return type if possible, otherwise return a consistent type\n",
        "\n",
        "Returns : GroupBy object\n"
      ]
    },
    {
      "cell_type": "code",
      "execution_count": null,
      "metadata": {
        "colab": {
          "background_save": true
        },
        "id": "N-IdX6Rp345Q",
        "outputId": "fa8a0885-d05b-4033-e18b-f12dab83c0a2"
      },
      "outputs": [
        {
          "name": "stdout",
          "output_type": "stream",
          "text": [
            "         co2\n",
            "car         \n",
            "Ford   100.5\n",
            "Skoda   97.0\n"
          ]
        }
      ],
      "source": [
        "# Example. Find the average co2 consumption for each car brand:\n",
        "import pandas as pd\n",
        "\n",
        "data = {\n",
        "  'co2': [95, 90, 99, 104, 105, 94, 99, 104],\n",
        "  'model': ['Citigo', 'Fabia', 'Fiesta', 'Rapid', 'Focus', 'Mondeo', 'Octavia', 'B-Max'],\n",
        "  'car': ['Skoda', 'Skoda', 'Ford', 'Skoda', 'Ford', 'Ford', 'Skoda', 'Ford']\n",
        "}\n",
        "\n",
        "df = pd.DataFrame(data)\n",
        "\n",
        "print(df.groupby([\"car\"]).mean())"
      ]
    },
    {
      "cell_type": "markdown",
      "metadata": {
        "id": "DUYO86q47hRD"
      },
      "source": [
        "Ref: https://re-thought.com/delete-drop-column-from-pandas-dataframe/\n",
        "\n",
        "https://www.geeksforgeeks.org/python-pandas-index-delete/\n",
        "\n",
        "https://www.tutorialspoint.com/python_pandas/python_pandas_iteration\n",
        "\n",
        "https://www.digitalocean.com/community/tutorials/python-string-to-datetime-strptime\n",
        "\n",
        "https://www.ibm.com/docs/en/tnpm/1.4.2?topic=data-aggregation\n",
        "\n",
        "https://www.geeksforgeeks.org/python-pandas-dataframe-groupby/"
      ]
    }
  ],
  "metadata": {
    "colab": {
      "provenance": [],
      "authorship_tag": "ABX9TyMDJXsQXk0DRpr2gSHXFXHZ",
      "include_colab_link": true
    },
    "kernelspec": {
      "display_name": "Python 3",
      "name": "python3"
    },
    "language_info": {
      "name": "python"
    }
  },
  "nbformat": 4,
  "nbformat_minor": 0
}