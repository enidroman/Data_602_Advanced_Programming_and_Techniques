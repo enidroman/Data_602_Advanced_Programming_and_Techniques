{
  "nbformat": 4,
  "nbformat_minor": 0,
  "metadata": {
    "colab": {
      "provenance": [],
      "include_colab_link": true
    },
    "kernelspec": {
      "name": "python3",
      "display_name": "Python 3"
    },
    "language_info": {
      "name": "python"
    }
  },
  "cells": [
    {
      "cell_type": "markdown",
      "metadata": {
        "id": "view-in-github",
        "colab_type": "text"
      },
      "source": [
        "<a href=\"https://colab.research.google.com/github/enidroman/Data_602_Advanced_Programming_and_Techniques/blob/main/Enid_Roman_Data_602_Assignment_10_.ipynb\" target=\"_parent\"><img src=\"https://colab.research.google.com/assets/colab-badge.svg\" alt=\"Open In Colab\"/></a>"
      ]
    },
    {
      "cell_type": "markdown",
      "source": [
        "# **Assignment 10**"
      ],
      "metadata": {
        "id": "xqXbEBZtB8-u"
      }
    },
    {
      "cell_type": "code",
      "source": [
        "# core\n",
        "import matplotlib.pyplot as plt\n",
        "import numpy as np\n",
        "import pandas as pd\n",
        "\n",
        "\n",
        "# ml\n",
        "from sklearn import datasets as ds\n",
        "from sklearn import linear_model as lm\n",
        "from sklearn.neighbors import KNeighborsClassifier as KNN\n",
        "from sklearn.model_selection import train_test_split as tts\n",
        "# Need to load accuracy score for Q3\n",
        "from sklearn.metrics import accuracy_score\n",
        "\n",
        "#plotly or other graphing library"
      ],
      "metadata": {
        "id": "Iqswq2_ak3e-"
      },
      "execution_count": 28,
      "outputs": []
    },
    {
      "cell_type": "code",
      "source": [
        "# Load datasets here once and assign to variables iris and boston\n",
        "from sklearn.datasets import load_iris\n",
        "# Load Iris dataset\n",
        "iris = load_iris()\n",
        "\n",
        "# As per professor don't need to do boston. \n",
        "#boston = "
      ],
      "metadata": {
        "id": "92pRcki-k3kH"
      },
      "execution_count": 29,
      "outputs": []
    },
    {
      "cell_type": "markdown",
      "source": [
        "**Q1** \n",
        "\n",
        "**Data set: Iris**\n",
        "\n",
        "* Return the first 5 rows of the data including the feature names as column headings in a DataFrame and a\n",
        "separate Python list containing target names"
      ],
      "metadata": {
        "id": "lA9exQg2lFEn"
      }
    },
    {
      "cell_type": "code",
      "source": [
        "# Create a DataFrame of the features\n",
        "df = pd.DataFrame(iris.data, columns=iris.feature_names)\n",
        "\n",
        "# Get the first 5 rows of the DataFrame\n",
        "df= df.head()\n",
        "\n",
        "# Print the DataFrame and the list\n",
        "print(df)"
      ],
      "metadata": {
        "colab": {
          "base_uri": "https://localhost:8080/"
        },
        "id": "bNe8U0EaFiBf",
        "outputId": "531af609-73cc-4144-c1b7-d14b868b8407"
      },
      "execution_count": 30,
      "outputs": [
        {
          "output_type": "stream",
          "name": "stdout",
          "text": [
            "   sepal length (cm)  sepal width (cm)  petal length (cm)  petal width (cm)\n",
            "0                5.1               3.5                1.4               0.2\n",
            "1                4.9               3.0                1.4               0.2\n",
            "2                4.7               3.2                1.3               0.2\n",
            "3                4.6               3.1                1.5               0.2\n",
            "4                5.0               3.6                1.4               0.2\n"
          ]
        }
      ]
    },
    {
      "cell_type": "markdown",
      "source": [
        "In this code, pd.DataFrame(iris.data, columns=iris.feature_names) creates a DataFrame of the features with column headings from iris.feature_names. df.head() returns the first 5 rows of the DataFrame. The first five rows of the Iris dataset are displayed as a DataFrame, with the feature names as the column headings. "
      ],
      "metadata": {
        "id": "ySvrf2qAEba4"
      }
    },
    {
      "cell_type": "code",
      "source": [
        "# Create a separate Python list containing target names\n",
        "target_names = iris.target_names.tolist()\n",
        "print(target_names)"
      ],
      "metadata": {
        "colab": {
          "base_uri": "https://localhost:8080/"
        },
        "id": "se0We03xgv0o",
        "outputId": "5015155a-c639-426f-b067-1f50f243bc40"
      },
      "execution_count": 31,
      "outputs": [
        {
          "output_type": "stream",
          "name": "stdout",
          "text": [
            "['setosa', 'versicolor', 'virginica']\n"
          ]
        }
      ]
    },
    {
      "cell_type": "markdown",
      "source": [
        "list(iris.target_names) creates a Python list of the target names. The separate Python list contains the target names, which are 'setosa', 'versicolor', and 'virginica'."
      ],
      "metadata": {
        "id": "HCUmF50pEo5S"
      }
    },
    {
      "cell_type": "code",
      "source": [
        "feature_names = df.keys() \n",
        "feature_names"
      ],
      "metadata": {
        "colab": {
          "base_uri": "https://localhost:8080/"
        },
        "id": "G-N00SpK0gLo",
        "outputId": "84efc57f-67ea-4850-824f-984383175bc8"
      },
      "execution_count": 32,
      "outputs": [
        {
          "output_type": "execute_result",
          "data": {
            "text/plain": [
              "Index(['sepal length (cm)', 'sepal width (cm)', 'petal length (cm)',\n",
              "       'petal width (cm)'],\n",
              "      dtype='object')"
            ]
          },
          "metadata": {},
          "execution_count": 32
        }
      ]
    },
    {
      "cell_type": "markdown",
      "source": [
        "df.keys function allowed me to get the names of each columns. "
      ],
      "metadata": {
        "id": "Xh8BcWoPNS1y"
      }
    },
    {
      "cell_type": "code",
      "source": [
        "df.head()"
      ],
      "metadata": {
        "colab": {
          "base_uri": "https://localhost:8080/",
          "height": 206
        },
        "id": "Q0N3DcW1N9B5",
        "outputId": "ca26811a-74c6-442b-df22-a15adc390099"
      },
      "execution_count": 33,
      "outputs": [
        {
          "output_type": "execute_result",
          "data": {
            "text/plain": [
              "   sepal length (cm)  sepal width (cm)  petal length (cm)  petal width (cm)\n",
              "0                5.1               3.5                1.4               0.2\n",
              "1                4.9               3.0                1.4               0.2\n",
              "2                4.7               3.2                1.3               0.2\n",
              "3                4.6               3.1                1.5               0.2\n",
              "4                5.0               3.6                1.4               0.2"
            ],
            "text/html": [
              "\n",
              "  <div id=\"df-c974fac3-3be5-4837-91f3-bfbde53d678c\">\n",
              "    <div class=\"colab-df-container\">\n",
              "      <div>\n",
              "<style scoped>\n",
              "    .dataframe tbody tr th:only-of-type {\n",
              "        vertical-align: middle;\n",
              "    }\n",
              "\n",
              "    .dataframe tbody tr th {\n",
              "        vertical-align: top;\n",
              "    }\n",
              "\n",
              "    .dataframe thead th {\n",
              "        text-align: right;\n",
              "    }\n",
              "</style>\n",
              "<table border=\"1\" class=\"dataframe\">\n",
              "  <thead>\n",
              "    <tr style=\"text-align: right;\">\n",
              "      <th></th>\n",
              "      <th>sepal length (cm)</th>\n",
              "      <th>sepal width (cm)</th>\n",
              "      <th>petal length (cm)</th>\n",
              "      <th>petal width (cm)</th>\n",
              "    </tr>\n",
              "  </thead>\n",
              "  <tbody>\n",
              "    <tr>\n",
              "      <th>0</th>\n",
              "      <td>5.1</td>\n",
              "      <td>3.5</td>\n",
              "      <td>1.4</td>\n",
              "      <td>0.2</td>\n",
              "    </tr>\n",
              "    <tr>\n",
              "      <th>1</th>\n",
              "      <td>4.9</td>\n",
              "      <td>3.0</td>\n",
              "      <td>1.4</td>\n",
              "      <td>0.2</td>\n",
              "    </tr>\n",
              "    <tr>\n",
              "      <th>2</th>\n",
              "      <td>4.7</td>\n",
              "      <td>3.2</td>\n",
              "      <td>1.3</td>\n",
              "      <td>0.2</td>\n",
              "    </tr>\n",
              "    <tr>\n",
              "      <th>3</th>\n",
              "      <td>4.6</td>\n",
              "      <td>3.1</td>\n",
              "      <td>1.5</td>\n",
              "      <td>0.2</td>\n",
              "    </tr>\n",
              "    <tr>\n",
              "      <th>4</th>\n",
              "      <td>5.0</td>\n",
              "      <td>3.6</td>\n",
              "      <td>1.4</td>\n",
              "      <td>0.2</td>\n",
              "    </tr>\n",
              "  </tbody>\n",
              "</table>\n",
              "</div>\n",
              "      <button class=\"colab-df-convert\" onclick=\"convertToInteractive('df-c974fac3-3be5-4837-91f3-bfbde53d678c')\"\n",
              "              title=\"Convert this dataframe to an interactive table.\"\n",
              "              style=\"display:none;\">\n",
              "        \n",
              "  <svg xmlns=\"http://www.w3.org/2000/svg\" height=\"24px\"viewBox=\"0 0 24 24\"\n",
              "       width=\"24px\">\n",
              "    <path d=\"M0 0h24v24H0V0z\" fill=\"none\"/>\n",
              "    <path d=\"M18.56 5.44l.94 2.06.94-2.06 2.06-.94-2.06-.94-.94-2.06-.94 2.06-2.06.94zm-11 1L8.5 8.5l.94-2.06 2.06-.94-2.06-.94L8.5 2.5l-.94 2.06-2.06.94zm10 10l.94 2.06.94-2.06 2.06-.94-2.06-.94-.94-2.06-.94 2.06-2.06.94z\"/><path d=\"M17.41 7.96l-1.37-1.37c-.4-.4-.92-.59-1.43-.59-.52 0-1.04.2-1.43.59L10.3 9.45l-7.72 7.72c-.78.78-.78 2.05 0 2.83L4 21.41c.39.39.9.59 1.41.59.51 0 1.02-.2 1.41-.59l7.78-7.78 2.81-2.81c.8-.78.8-2.07 0-2.86zM5.41 20L4 18.59l7.72-7.72 1.47 1.35L5.41 20z\"/>\n",
              "  </svg>\n",
              "      </button>\n",
              "      \n",
              "  <style>\n",
              "    .colab-df-container {\n",
              "      display:flex;\n",
              "      flex-wrap:wrap;\n",
              "      gap: 12px;\n",
              "    }\n",
              "\n",
              "    .colab-df-convert {\n",
              "      background-color: #E8F0FE;\n",
              "      border: none;\n",
              "      border-radius: 50%;\n",
              "      cursor: pointer;\n",
              "      display: none;\n",
              "      fill: #1967D2;\n",
              "      height: 32px;\n",
              "      padding: 0 0 0 0;\n",
              "      width: 32px;\n",
              "    }\n",
              "\n",
              "    .colab-df-convert:hover {\n",
              "      background-color: #E2EBFA;\n",
              "      box-shadow: 0px 1px 2px rgba(60, 64, 67, 0.3), 0px 1px 3px 1px rgba(60, 64, 67, 0.15);\n",
              "      fill: #174EA6;\n",
              "    }\n",
              "\n",
              "    [theme=dark] .colab-df-convert {\n",
              "      background-color: #3B4455;\n",
              "      fill: #D2E3FC;\n",
              "    }\n",
              "\n",
              "    [theme=dark] .colab-df-convert:hover {\n",
              "      background-color: #434B5C;\n",
              "      box-shadow: 0px 1px 3px 1px rgba(0, 0, 0, 0.15);\n",
              "      filter: drop-shadow(0px 1px 2px rgba(0, 0, 0, 0.3));\n",
              "      fill: #FFFFFF;\n",
              "    }\n",
              "  </style>\n",
              "\n",
              "      <script>\n",
              "        const buttonEl =\n",
              "          document.querySelector('#df-c974fac3-3be5-4837-91f3-bfbde53d678c button.colab-df-convert');\n",
              "        buttonEl.style.display =\n",
              "          google.colab.kernel.accessAllowed ? 'block' : 'none';\n",
              "\n",
              "        async function convertToInteractive(key) {\n",
              "          const element = document.querySelector('#df-c974fac3-3be5-4837-91f3-bfbde53d678c');\n",
              "          const dataTable =\n",
              "            await google.colab.kernel.invokeFunction('convertToInteractive',\n",
              "                                                     [key], {});\n",
              "          if (!dataTable) return;\n",
              "\n",
              "          const docLinkHtml = 'Like what you see? Visit the ' +\n",
              "            '<a target=\"_blank\" href=https://colab.research.google.com/notebooks/data_table.ipynb>data table notebook</a>'\n",
              "            + ' to learn more about interactive tables.';\n",
              "          element.innerHTML = '';\n",
              "          dataTable['output_type'] = 'display_data';\n",
              "          await google.colab.output.renderOutput(dataTable, element);\n",
              "          const docLink = document.createElement('div');\n",
              "          docLink.innerHTML = docLinkHtml;\n",
              "          element.appendChild(docLink);\n",
              "        }\n",
              "      </script>\n",
              "    </div>\n",
              "  </div>\n",
              "  "
            ]
          },
          "metadata": {},
          "execution_count": 33
        }
      ]
    },
    {
      "cell_type": "markdown",
      "source": [
        "Here I put the feature data neatly into a data frame. "
      ],
      "metadata": {
        "id": "fV9nXfqbOfc-"
      }
    },
    {
      "cell_type": "code",
      "source": [
        "# Put target data into data frame\n",
        "target = pd.DataFrame(iris.target_names)\n",
        "# Lets rename the column so that we know that these values refer to the target values\n",
        "target = target.rename(columns = {0: 'target'})\n",
        "target.head()"
      ],
      "metadata": {
        "colab": {
          "base_uri": "https://localhost:8080/",
          "height": 143
        },
        "id": "SIPCOKUNsQpL",
        "outputId": "8ee5cf9b-788d-4520-8272-b634c94f515b"
      },
      "execution_count": 34,
      "outputs": [
        {
          "output_type": "execute_result",
          "data": {
            "text/plain": [
              "       target\n",
              "0      setosa\n",
              "1  versicolor\n",
              "2   virginica"
            ],
            "text/html": [
              "\n",
              "  <div id=\"df-bfe8f150-37b6-4d05-b014-901e4abfd83a\">\n",
              "    <div class=\"colab-df-container\">\n",
              "      <div>\n",
              "<style scoped>\n",
              "    .dataframe tbody tr th:only-of-type {\n",
              "        vertical-align: middle;\n",
              "    }\n",
              "\n",
              "    .dataframe tbody tr th {\n",
              "        vertical-align: top;\n",
              "    }\n",
              "\n",
              "    .dataframe thead th {\n",
              "        text-align: right;\n",
              "    }\n",
              "</style>\n",
              "<table border=\"1\" class=\"dataframe\">\n",
              "  <thead>\n",
              "    <tr style=\"text-align: right;\">\n",
              "      <th></th>\n",
              "      <th>target</th>\n",
              "    </tr>\n",
              "  </thead>\n",
              "  <tbody>\n",
              "    <tr>\n",
              "      <th>0</th>\n",
              "      <td>setosa</td>\n",
              "    </tr>\n",
              "    <tr>\n",
              "      <th>1</th>\n",
              "      <td>versicolor</td>\n",
              "    </tr>\n",
              "    <tr>\n",
              "      <th>2</th>\n",
              "      <td>virginica</td>\n",
              "    </tr>\n",
              "  </tbody>\n",
              "</table>\n",
              "</div>\n",
              "      <button class=\"colab-df-convert\" onclick=\"convertToInteractive('df-bfe8f150-37b6-4d05-b014-901e4abfd83a')\"\n",
              "              title=\"Convert this dataframe to an interactive table.\"\n",
              "              style=\"display:none;\">\n",
              "        \n",
              "  <svg xmlns=\"http://www.w3.org/2000/svg\" height=\"24px\"viewBox=\"0 0 24 24\"\n",
              "       width=\"24px\">\n",
              "    <path d=\"M0 0h24v24H0V0z\" fill=\"none\"/>\n",
              "    <path d=\"M18.56 5.44l.94 2.06.94-2.06 2.06-.94-2.06-.94-.94-2.06-.94 2.06-2.06.94zm-11 1L8.5 8.5l.94-2.06 2.06-.94-2.06-.94L8.5 2.5l-.94 2.06-2.06.94zm10 10l.94 2.06.94-2.06 2.06-.94-2.06-.94-.94-2.06-.94 2.06-2.06.94z\"/><path d=\"M17.41 7.96l-1.37-1.37c-.4-.4-.92-.59-1.43-.59-.52 0-1.04.2-1.43.59L10.3 9.45l-7.72 7.72c-.78.78-.78 2.05 0 2.83L4 21.41c.39.39.9.59 1.41.59.51 0 1.02-.2 1.41-.59l7.78-7.78 2.81-2.81c.8-.78.8-2.07 0-2.86zM5.41 20L4 18.59l7.72-7.72 1.47 1.35L5.41 20z\"/>\n",
              "  </svg>\n",
              "      </button>\n",
              "      \n",
              "  <style>\n",
              "    .colab-df-container {\n",
              "      display:flex;\n",
              "      flex-wrap:wrap;\n",
              "      gap: 12px;\n",
              "    }\n",
              "\n",
              "    .colab-df-convert {\n",
              "      background-color: #E8F0FE;\n",
              "      border: none;\n",
              "      border-radius: 50%;\n",
              "      cursor: pointer;\n",
              "      display: none;\n",
              "      fill: #1967D2;\n",
              "      height: 32px;\n",
              "      padding: 0 0 0 0;\n",
              "      width: 32px;\n",
              "    }\n",
              "\n",
              "    .colab-df-convert:hover {\n",
              "      background-color: #E2EBFA;\n",
              "      box-shadow: 0px 1px 2px rgba(60, 64, 67, 0.3), 0px 1px 3px 1px rgba(60, 64, 67, 0.15);\n",
              "      fill: #174EA6;\n",
              "    }\n",
              "\n",
              "    [theme=dark] .colab-df-convert {\n",
              "      background-color: #3B4455;\n",
              "      fill: #D2E3FC;\n",
              "    }\n",
              "\n",
              "    [theme=dark] .colab-df-convert:hover {\n",
              "      background-color: #434B5C;\n",
              "      box-shadow: 0px 1px 3px 1px rgba(0, 0, 0, 0.15);\n",
              "      filter: drop-shadow(0px 1px 2px rgba(0, 0, 0, 0.3));\n",
              "      fill: #FFFFFF;\n",
              "    }\n",
              "  </style>\n",
              "\n",
              "      <script>\n",
              "        const buttonEl =\n",
              "          document.querySelector('#df-bfe8f150-37b6-4d05-b014-901e4abfd83a button.colab-df-convert');\n",
              "        buttonEl.style.display =\n",
              "          google.colab.kernel.accessAllowed ? 'block' : 'none';\n",
              "\n",
              "        async function convertToInteractive(key) {\n",
              "          const element = document.querySelector('#df-bfe8f150-37b6-4d05-b014-901e4abfd83a');\n",
              "          const dataTable =\n",
              "            await google.colab.kernel.invokeFunction('convertToInteractive',\n",
              "                                                     [key], {});\n",
              "          if (!dataTable) return;\n",
              "\n",
              "          const docLinkHtml = 'Like what you see? Visit the ' +\n",
              "            '<a target=\"_blank\" href=https://colab.research.google.com/notebooks/data_table.ipynb>data table notebook</a>'\n",
              "            + ' to learn more about interactive tables.';\n",
              "          element.innerHTML = '';\n",
              "          dataTable['output_type'] = 'display_data';\n",
              "          await google.colab.output.renderOutput(dataTable, element);\n",
              "          const docLink = document.createElement('div');\n",
              "          docLink.innerHTML = docLinkHtml;\n",
              "          element.appendChild(docLink);\n",
              "        }\n",
              "      </script>\n",
              "    </div>\n",
              "  </div>\n",
              "  "
            ]
          },
          "metadata": {},
          "execution_count": 34
        }
      ]
    },
    {
      "cell_type": "markdown",
      "source": [
        "Here I put the target data neatly into a data frame. The target data frame is only one column, and it gives a list of the values 0, 1, and 2. We will use the information from the feature data to predict if a flower belongs in group 0, 1, or 2. "
      ],
      "metadata": {
        "id": "_WqT_GC3KybN"
      }
    },
    {
      "cell_type": "markdown",
      "source": [
        "**Q2**\n",
        "\n",
        "**Data set: Iris**\n",
        "\n",
        "* Fit the Iris dataset into a kNN model with neighbors=5 and predict the category of observations passed in \n",
        "argument new_observations. Return back the target names of each prediction (and not their encoded values,\n",
        " i.e. return setosa instead of 0)."
      ],
      "metadata": {
        "id": "o2GEIhqzlT-i"
      }
    },
    {
      "cell_type": "code",
      "source": [
        "# Create a kNN model with 5 neighbors\n",
        "knn = KNN(n_neighbors=5)\n",
        "\n",
        "# Fit the model to the iris data\n",
        "knn.fit(iris.data, iris.target)\n",
        "\n",
        "# Define some new observations to classify\n",
        "new_observations = [[5.2, 3.6, 1.4, 0.2],\n",
        "                    [6.3, 3.3, 4.7, 1.6],\n",
        "                    [7.1, 3.0, 5.9, 2.1]]\n",
        "\n",
        "# Predict the categories of the new observations\n",
        "predictions = knn.predict(new_observations)\n",
        "\n",
        "# Convert the encoded values to target names\n",
        "target_names = iris.target_names\n",
        "predicted_target_names = [target_names[prediction] for prediction in predictions]\n",
        "\n",
        "# Print the predicted target names\n",
        "print(predicted_target_names)"
      ],
      "metadata": {
        "id": "wyqbRKh5lAzg",
        "colab": {
          "base_uri": "https://localhost:8080/"
        },
        "outputId": "7d4b9037-ccf2-4608-8b9e-feac6d1cfb7e"
      },
      "execution_count": 35,
      "outputs": [
        {
          "output_type": "stream",
          "name": "stdout",
          "text": [
            "['setosa', 'versicolor', 'virginica']\n"
          ]
        }
      ]
    },
    {
      "cell_type": "markdown",
      "source": [
        "Note that the predictions_names list contains the target names of each prediction in the order that the new observations were defined. In this example, the first observation is predicted to be \"setosa\", the second observation is predicted to be \"virginica\", and the third observation is predicted to be \"versicolor\"."
      ],
      "metadata": {
        "id": "yoOHboxxDqyi"
      }
    },
    {
      "cell_type": "markdown",
      "source": [
        "**Q3**\n",
        "\n",
        "**Data set: Iris**\n",
        "\n",
        "* Split the Iris dataset into a train / test model with the split ratio between the two established by the function parameter split.\n",
        "\n",
        "* Fit KNN with the training data with number of neighbors equal to the function parameter neighbors\n",
        "\n",
        "* Generate and return back an accuracy score using the test data that was split out"
      ],
      "metadata": {
        "id": "aVMa16PflnBv"
      }
    },
    {
      "cell_type": "code",
      "source": [
        "# Split the data into training and testing sets\n",
        "X_train, X_test, y_train, y_test = tts(iris.data, iris.target, test_size=0.2)\n",
        "                                       \n",
        "\n",
        "# Fit KNN with the training data\n",
        "knn = KNN(n_neighbors=5)\n",
        "knn.fit(X_train, y_train)\n",
        "\n",
        "# Generate and return accuracy score using the test data\n",
        "y_pred = knn.predict(X_test)\n",
        "accuracy = accuracy_score(y_test, y_pred)\n",
        "print(\"Accuracy:\", accuracy)"
      ],
      "metadata": {
        "id": "5VIRae0xlA20",
        "colab": {
          "base_uri": "https://localhost:8080/"
        },
        "outputId": "807585ff-ea25-4542-839d-02ad6ed8ce89"
      },
      "execution_count": 36,
      "outputs": [
        {
          "output_type": "stream",
          "name": "stdout",
          "text": [
            "Accuracy: 0.9333333333333333\n"
          ]
        }
      ]
    },
    {
      "cell_type": "markdown",
      "source": [
        "In this code, train_test_split splits the dataset into training and testing sets, KNeighborsClassifier is used to create a KNN model with a given number of neighbors, and accuracy_score computes the accuracy of the model on the test data. The split ratio and number of neighbors are passed as function parameters split and neighbors, respectively."
      ],
      "metadata": {
        "id": "B4moeQbjCwNW"
      }
    },
    {
      "cell_type": "markdown",
      "source": [
        "**Q4**\n",
        "\n",
        "**Data set: Iris**\n",
        "\n",
        "* Generate an overfitting / underfitting curve of kNN each of the testing and training accuracy performance scores series for a range of neighbor (k) values from 1 to 30 and plot the curves (number of neighbors is x-axis, performance score is y-axis on the chart)."
      ],
      "metadata": {
        "id": "GupwxBDVl8n2"
      }
    },
    {
      "cell_type": "code",
      "source": [
        "# Split the data into training and testing sets\n",
        "X_train, X_test, y_train, y_test = tts(iris.data, iris.target, test_size=0.3)\n",
        "\n",
        "# Set up lists to store training and testing accuracy scores\n",
        "train_acc = []\n",
        "test_acc = []\n",
        "\n",
        "# Loop through k values from 1 to 30\n",
        "for k in range(1, 31):\n",
        "    # Fit KNN with the training data\n",
        "    knn = KNN(n_neighbors=k)\n",
        "    knn.fit(X_train, y_train)\n",
        "    \n",
        "    # Generate training accuracy score\n",
        "    y_train_pred = knn.predict(X_train)\n",
        "    train_accuracy = accuracy_score(y_train, y_train_pred)\n",
        "    train_acc.append(train_accuracy)\n",
        "    \n",
        "    # Generate testing accuracy score\n",
        "    y_test_pred = knn.predict(X_test)\n",
        "    test_accuracy = accuracy_score(y_test, y_test_pred)\n",
        "    test_acc.append(test_accuracy)\n",
        "\n",
        "# Plot the curves\n",
        "plt.plot(range(1, 31), train_acc, label='Training Accuracy')\n",
        "plt.plot(range(1, 31), test_acc, label='Testing Accuracy')\n",
        "plt.xlabel('Number of Neighbors (k)')\n",
        "plt.ylabel('Accuracy Score')\n",
        "plt.title('Overfitting/Underfitting Curve of kNN')\n",
        "plt.legend()\n",
        "plt.show()\n"
      ],
      "metadata": {
        "id": "M-6Ig8_QlA6J",
        "colab": {
          "base_uri": "https://localhost:8080/",
          "height": 472
        },
        "outputId": "1bb8f7b3-be8f-4c74-f5fd-6cbb27a6d8bd"
      },
      "execution_count": 37,
      "outputs": [
        {
          "output_type": "display_data",
          "data": {
            "text/plain": [
              "<Figure size 640x480 with 1 Axes>"
            ],
            "image/png": "[encoded data removed]"
          },
          "metadata": {}
        }
      ]
    },
    {
      "cell_type": "markdown",
      "source": [
        "In this code, train_acc and test_acc are lists that store the training and testing accuracy scores for each value of k, respectively. The loop iterates through k values from 1 to 30 and fits a KNN model with each value of k. The training and testing accuracy scores are then computed and appended to the appropriate list. Finally, the training and testing accuracy scores are plotted against the number of neighbors (k) to generate the overfitting/underfitting curve of kNN.\n",
        "\n",
        "\n",
        "The resulting plot shows how the training and testing accuracy scores change as the number of neighbors (k) increases. If the training accuracy is high but the testing accuracy is low, the model is overfitting the training data. If both the training and testing accuracies are low, the model is underfitting the data. The optimal value of k is the one that achieves the highest testing accuracy."
      ],
      "metadata": {
        "id": "AhT-uHlECOUP"
      }
    },
    {
      "cell_type": "markdown",
      "source": [
        "**Q5** \n",
        "\n",
        "**Data set: Boston**\n",
        "\n",
        "\n",
        "* Load sklearn's Boston data into a DataFrame (only the data and feature_name as column names)\n",
        "\n",
        "* Load sklearn's Boston target values into a separate DataFrame\n",
        "\n",
        "* Return back the average of AGE, average of the target (median value of homes or MEDV), and the target as NumPy values "
      ],
      "metadata": {
        "id": "NQ8WM1UJl8Iy"
      }
    },
    {
      "cell_type": "code",
      "source": [],
      "metadata": {
        "id": "-Qi-PJvxlA8O"
      },
      "execution_count": 37,
      "outputs": []
    },
    {
      "cell_type": "markdown",
      "source": [
        "**Q6** \n",
        "\n",
        "**Data set: Boston**\n",
        "\n",
        "* In the Boston dataset, the feature PTRATIO refers to pupil teacher ratio.\n",
        "\n",
        "* Using a matplotlib scatter plot, plot MEDV median value of homes as y-axis and PTRATIO as x-axis\n",
        "\n",
        "* Return back PTRATIO as a NumPy array"
      ],
      "metadata": {
        "id": "-z7LddLfmNyP"
      }
    },
    {
      "cell_type": "code",
      "source": [],
      "metadata": {
        "id": "CDFVf0vxmSMo"
      },
      "execution_count": 37,
      "outputs": []
    },
    {
      "cell_type": "markdown",
      "source": [
        "**Q7**\n",
        "\n",
        "**Data set: Boston**\n",
        "\n",
        "* Create a regression model for MEDV / PTRATIO and display a chart showing the regression line using matplotlib\n",
        "\n",
        "\n",
        "* Use np.linspace() to generate prediction X values from min to max PTRATIO\n",
        "\n",
        "* Return back the regression prediction space and regression predicted values\n",
        "\n",
        "* Make sure to labels axes appropriately"
      ],
      "metadata": {
        "id": "vmsmxjBcmZZ1"
      }
    },
    {
      "cell_type": "code",
      "source": [],
      "metadata": {
        "id": "02DsBMnDmmXC"
      },
      "execution_count": 37,
      "outputs": []
    }
  ]
}