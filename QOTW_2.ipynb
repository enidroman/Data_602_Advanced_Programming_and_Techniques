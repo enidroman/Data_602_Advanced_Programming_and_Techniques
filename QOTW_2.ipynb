{
  "nbformat": 4,
  "nbformat_minor": 0,
  "metadata": {
    "colab": {
      "provenance": [],
      "authorship_tag": "ABX9TyNB0pKlhv1jbm7H9RpcoNEl",
      "include_colab_link": true
    },
    "kernelspec": {
      "name": "python3",
      "display_name": "Python 3"
    },
    "language_info": {
      "name": "python"
    }
  },
  "cells": [
    {
      "cell_type": "markdown",
      "metadata": {
        "id": "view-in-github",
        "colab_type": "text"
      },
      "source": [
        "<a href=\"https://colab.research.google.com/github/enidroman/Data_602_Advanced_Programming_and_Techniques/blob/main/QOTW_2.ipynb\" target=\"_parent\"><img src=\"https://colab.research.google.com/assets/colab-badge.svg\" alt=\"Open In Colab\"/></a>"
      ]
    },
    {
      "cell_type": "code",
      "execution_count": null,
      "metadata": {
        "colab": {
          "base_uri": "https://localhost:8080/"
        },
        "id": "uS9TOy9O-_W5",
        "outputId": "d612fffc-fe69-4156-cee7-25fa212a1f6a"
      },
      "outputs": [
        {
          "output_type": "stream",
          "name": "stdout",
          "text": [
            "5\n"
          ]
        }
      ],
      "source": [
        "# 1. Create a variable y and set it to 5.\n",
        "\n",
        "y = 5\n",
        "print(y)"
      ]
    },
    {
      "cell_type": "code",
      "source": [
        "# 2. Create a string variable called first_name and set it to your first name.\n",
        "\n",
        "first_name = 'Enid'\n",
        "print(first_name)"
      ],
      "metadata": {
        "colab": {
          "base_uri": "https://localhost:8080/"
        },
        "id": "EQ9E3bF9_It_",
        "outputId": "d27751d5-ed47-48d9-b25f-a55edce3c79b"
      },
      "execution_count": null,
      "outputs": [
        {
          "output_type": "stream",
          "name": "stdout",
          "text": [
            "Enid\n"
          ]
        }
      ]
    },
    {
      "cell_type": "code",
      "source": [
        "# 3. Create a string variable called last_name and set it to your last name.\n",
        "\n",
        "last_name = 'Roman'\n",
        "print(last_name)"
      ],
      "metadata": {
        "colab": {
          "base_uri": "https://localhost:8080/"
        },
        "id": "F63vXdJUA0yF",
        "outputId": "ffbb7c14-cdb6-44e0-b141-e9677b9f7591"
      },
      "execution_count": null,
      "outputs": [
        {
          "output_type": "stream",
          "name": "stdout",
          "text": [
            "Roman\n"
          ]
        }
      ]
    },
    {
      "cell_type": "code",
      "source": [
        "# 4. Create a string variable called full_name and set it equal to your full name using variables above.\n",
        "\n",
        "first_name = 'Enid'\n",
        "last_name = 'Roman'\n",
        "full_name = first_name + ' ' + last_name \n",
        "print(full_name)"
      ],
      "metadata": {
        "colab": {
          "base_uri": "https://localhost:8080/"
        },
        "id": "KJaUIx-xBGs5",
        "outputId": "b826d068-3388-4f8b-8858-3c8f1b94ea10"
      },
      "execution_count": null,
      "outputs": [
        {
          "output_type": "stream",
          "name": "stdout",
          "text": [
            "Enid Roman\n"
          ]
        }
      ]
    },
    {
      "cell_type": "code",
      "source": [
        "# 5. Assign 20 to the variable hours_worked, 15 to the variable wage_per_hour and the product of the two to variable total_pay.\n",
        "\n",
        "hours_worked = 20\n",
        "wage_per_hour = 15\n",
        "total_pay = hours_worked * wage_per_hour\n",
        "print(total_pay)\n"
      ],
      "metadata": {
        "colab": {
          "base_uri": "https://localhost:8080/"
        },
        "id": "0PiHDh6oCMjI",
        "outputId": "e162a961-c359-4624-a391-1da438326c58"
      },
      "execution_count": null,
      "outputs": [
        {
          "output_type": "stream",
          "name": "stdout",
          "text": [
            "300\n"
          ]
        }
      ]
    },
    {
      "cell_type": "code",
      "source": [
        "# 6. Create a variable called x and set it to 10. Then create a variable y that equals to x to the 7th power.\n",
        "\n",
        "x = 10\n",
        "y = x ** 7\n",
        "print(y)\n"
      ],
      "metadata": {
        "colab": {
          "base_uri": "https://localhost:8080/"
        },
        "id": "N8bySv5EDRDT",
        "outputId": "486a45b0-ce17-4cec-a28d-eafcf2726174"
      },
      "execution_count": null,
      "outputs": [
        {
          "output_type": "stream",
          "name": "stdout",
          "text": [
            "10000000\n"
          ]
        }
      ]
    }
  ]
}