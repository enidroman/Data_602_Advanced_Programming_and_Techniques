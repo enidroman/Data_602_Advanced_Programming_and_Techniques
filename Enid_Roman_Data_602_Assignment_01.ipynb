{
  "nbformat": 4,
  "nbformat_minor": 0,
  "metadata": {
    "colab": {
      "provenance": [],
      "authorship_tag": "ABX9TyN2w8MqvL2OFh+7WdfNb5br",
      "include_colab_link": true
    },
    "kernelspec": {
      "name": "python3",
      "display_name": "Python 3"
    },
    "language_info": {
      "name": "python"
    }
  },
  "cells": [
    {
      "cell_type": "markdown",
      "metadata": {
        "id": "view-in-github",
        "colab_type": "text"
      },
      "source": [
        "<a href=\"https://colab.research.google.com/github/enidroman/Data_602_Advanced_Programming_and_Techniques/blob/main/Enid_Roman_Data_602_Assignment_01.ipynb\" target=\"_parent\"><img src=\"https://colab.research.google.com/assets/colab-badge.svg\" alt=\"Open In Colab\"/></a>"
      ]
    },
    {
      "cell_type": "markdown",
      "source": [
        "######Q1 Fix all the syntax and logical errors in the given source code add comments to explain your reasoning\n",
        "######This program gets three test scores and displays their average.  It congratulates the user if the average is a high score. The high score variable holds the value that is considered a high score.\n"
      ],
      "metadata": {
        "id": "HkyasUn40kGP"
      }
    },
    {
      "cell_type": "code",
      "source": [
        "HIGH_SCORE = 95\n",
        " \n",
        "# Get the test scores.\n",
        "test1 = int(input('Enter the score for test 1: ')) # Must convert number into an integer in order to perform math\n",
        "test2 = int(input('Enter the score for test 2: ')) # Must convert number into an integer in order to perform math\n",
        "test3 = int(input('Enter the score for test 3: ')) # Must convert number into an integer in order to perform math. Must have the same amount of test to calculate the average.\n",
        "# Calculate the average test score.\n",
        "average = (test1 + test2 + test3) / 3           # Need parenthesis to add all 3 test together before dividing by 3.\n",
        "# Print the average.\n",
        "print('The average score is', average)\n",
        "# If the average is a high score,\n",
        "# congratulate the user.\n",
        "if average >= HIGH_SCORE:                          # Name variable must follow the same as the origional name variable. Be consistent. Ex. All caps.\n",
        "    print('Congratulations!')\n",
        "print('That is a great average!')\n",
        "\n"
      ],
      "metadata": {
        "colab": {
          "base_uri": "https://localhost:8080/"
        },
        "id": "njrgY910eINx",
        "outputId": "5719609a-fea9-4cb1-d247-bd7da1cbde40"
      },
      "execution_count": null,
      "outputs": [
        {
          "output_type": "stream",
          "name": "stdout",
          "text": [
            "Enter the score for test 1: 98\n",
            "Enter the score for test 2: 96\n",
            "Enter the score for test 3: 94\n",
            "The average score is 96.0\n",
            "Congratulations!\n",
            "That is a great average!\n"
          ]
        },
        {
          "output_type": "execute_result",
          "data": {
            "text/plain": [
              "float"
            ]
          },
          "metadata": {},
          "execution_count": 7
        }
      ]
    },
    {
      "cell_type": "markdown",
      "source": [
        "######Q2 The area of a rectangle is the rectangle’s length times its width. Write a program that asks for the length and width of two rectangles and prints to the user the area of both rectangles. "
      ],
      "metadata": {
        "id": "txC40RcX29Sb"
      }
    },
    {
      "cell_type": "code",
      "source": [
        "#Get the length and width of rectangle 1\n",
        "length1 = input('Enter the length for the first rectangle: ')\n",
        "width1 = input('Enter the width for the first rectangle: ')\n",
        "\n",
        "#Get the length and width of rectangle 2\n",
        "length2 = input('Enter the length for the second rectangle: ')\n",
        "width2 = input('Enter the width for the second rectangle: ')\n",
        "\n",
        "#Calculate the area of rectangle1 \n",
        "area_of_rectangle1 = int(length1) * int(width1)\n",
        "\n",
        "# Print the area of rectangle1.\n",
        "print('The area of rectangle 1 is', area_of_rectangle1)\n",
        "\n",
        "#Calculate the area of rectangle2 \n",
        "area_of_rectangle2 = int(length2) * int(width2)\n",
        "\n",
        "# Print the area of rectangle1.\n",
        "print('The area of rectangle 2 is', area_of_rectangle2)\n"
      ],
      "metadata": {
        "colab": {
          "base_uri": "https://localhost:8080/"
        },
        "id": "0Gvqngrm3QNG",
        "outputId": "590b5a8e-2c02-40c2-80ba-cd4525f695d9"
      },
      "execution_count": null,
      "outputs": [
        {
          "output_type": "stream",
          "name": "stdout",
          "text": [
            "Enter the length for the first rectangle: 4\n",
            "Enter the width for the first rectangle: 2\n",
            "Enter the length for the second rectangle: 7\n",
            "Enter the width for the second rectangle: 5\n",
            "The area of rectangle 1 is 8\n",
            "The area of rectangle 2 is 35\n"
          ]
        }
      ]
    },
    {
      "cell_type": "markdown",
      "source": [
        "######Ask a user to enter their first name and their age and assign it to the variables name and age. \n",
        "######The variable name should be a string and the variable age should be an int.  \n",
        "\n",
        "######Using the variables name and age, print a message to the user stating something along the lines of:\n",
        "###### \"Happy birthday, name!  You are age years old today!\""
      ],
      "metadata": {
        "id": "A-OkeIwA3ZV7"
      }
    },
    {
      "cell_type": "code",
      "source": [
        "name = input('Please enter your first name: ')\n",
        "age = int(input('Please enter your age; '))\n",
        " \n",
        "txt = 'Happy birthday, ' + name.capitalize() + '!'  ' '  'You are, {} years old today. '\n",
        "\n",
        "print(txt.format(age))\n",
        "\n",
        "type(age)"
      ],
      "metadata": {
        "colab": {
          "base_uri": "https://localhost:8080/"
        },
        "id": "kjjfCAzIS7CA",
        "outputId": "77e5ad74-2627-45c8-e5d2-3d8b00b6a66c"
      },
      "execution_count": 49,
      "outputs": [
        {
          "output_type": "stream",
          "name": "stdout",
          "text": [
            "Please enter your first name: enid\n",
            "Please enter your age; 34\n",
            "Happy birthday, Enid! You are, 34 years old today. \n"
          ]
        },
        {
          "output_type": "execute_result",
          "data": {
            "text/plain": [
              "int"
            ]
          },
          "metadata": {},
          "execution_count": 49
        }
      ]
    }
  ]
}