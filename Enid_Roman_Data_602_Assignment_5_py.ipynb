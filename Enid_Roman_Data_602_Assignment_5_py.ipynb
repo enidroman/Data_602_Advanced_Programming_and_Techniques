{
  "nbformat": 4,
  "nbformat_minor": 0,
  "metadata": {
    "colab": {
      "provenance": [],
      "authorship_tag": "ABX9TyPl67aZcG7pikX9BvW7iwxb",
      "include_colab_link": true
    },
    "kernelspec": {
      "name": "python3",
      "display_name": "Python 3"
    },
    "language_info": {
      "name": "python"
    }
  },
  "cells": [
    {
      "cell_type": "markdown",
      "metadata": {
        "id": "view-in-github",
        "colab_type": "text"
      },
      "source": [
        "<a href=\"https://colab.research.google.com/github/enidroman/Data_602_Advanced_Programming_and_Techniques/blob/main/Enid_Roman_Data_602_Assignment_5_py.ipynb\" target=\"_parent\"><img src=\"https://colab.research.google.com/assets/colab-badge.svg\" alt=\"Open In Colab\"/></a>"
      ]
    },
    {
      "cell_type": "markdown",
      "source": [
        "'''\n",
        "Assignment #5\n",
        "1. Add / modify code ONLY between the marked areas (i.e. \"Place code below\") \n",
        "2. Run the associated test harness for a basic check on completeness. A successful run of the test cases does not guarantee accuracy or fulfillment of the requirements. Please do not submit your work if test cases fail.\n",
        "3. To run unit tests simply use the below command after filling in all of the code:\n",
        "    python 05_assignment.py\n",
        "  \n",
        "4. Unless explicitly stated, please do not import any additional libraries but feel free to use built-in Python packages\n",
        "5. Submissions must be a Python file and not a notebook file (i.e *.ipynb)\n",
        "6. Do not use global variables\n",
        "'''"
      ],
      "metadata": {
        "id": "zMpiOFbO1GBT"
      }
    },
    {
      "cell_type": "code",
      "execution_count": 148,
      "metadata": {
        "id": "hKfJ6DVRxDGQ"
      },
      "outputs": [],
      "source": [
        "import numpy as np, pandas as pd, matplotlib.pyplot as plt\n",
        "import unittest\n",
        "import requests\n",
        "import json\n"
      ]
    },
    {
      "cell_type": "code",
      "source": [
        "def exercise01():\n",
        "    '''\n",
        "    Create a DataFrame df with 4 columns and 3 rows of data in one line of code. The data can be arbitrary integers.\n",
        "    For example\n",
        "    \n",
        "               0  1  2   3\n",
        "            0  1  2  3   4\n",
        "            1  5  6  7   8\n",
        "            2  7  8  9  10\n",
        "    '''\n",
        "\n",
        "    # ------ Place code below here \\/ \\/ \\/ ------\n",
        "    data = [[1,2,3,4], [5,6,7,8], [7,8,9,10]]\n",
        "    df = pd.DataFrame(data)\n",
        "    # ------ Place code above here /\\ /\\ /\\ ------\n",
        "\n",
        "    return df"
      ],
      "metadata": {
        "id": "nnZTOgce1Zk5"
      },
      "execution_count": 149,
      "outputs": []
    },
    {
      "cell_type": "code",
      "source": [
        "def exercise02(a):\n",
        "    # The function exercise02() receives a Python list and converts it to an ndarray. Convert the list to a numpy ndarray called array.\n",
        "\n",
        "    # ------ Place code below here \\/ \\/ \\/ ------\n",
        "    array = np.array(a)\n",
        "    #print(type(array))\n",
        "    # ------ Place code above here /\\ /\\ /\\ ------\n",
        "\n",
        "    return array\n"
      ],
      "metadata": {
        "id": "B2i6aQ1g3xqD"
      },
      "execution_count": 150,
      "outputs": []
    },
    {
      "cell_type": "code",
      "source": [
        "def exercise03(a):\n",
        "    # The function exercise03() receives an ndarray of integers. Return the sum of those integers using NumPy.\n",
        "\n",
        "    # ------ Place code below here \\/ \\/ \\/ ------\n",
        "    sum = a.sum()\n",
        "\n",
        "    # ------ Place code above here /\\ /\\ /\\ ------\n",
        "    return sum\n"
      ],
      "metadata": {
        "id": "VpjLfPXO38Qd"
      },
      "execution_count": 151,
      "outputs": []
    },
    {
      "cell_type": "code",
      "source": [
        "def exercise04(a):\n",
        "    # The function exercise04() receives an matrix (2D) of integers. Return the sum of the 2nd column using NumPy.\n",
        "\n",
        "    # ------ Place code below here \\/ \\/ \\/ ------\n",
        "    sum = a.sum(axis=0)[1]\n",
        "\n",
        "    # ------ Place code above here /\\ /\\ /\\ ------\n",
        "    return sum"
      ],
      "metadata": {
        "id": "y4An9n-T4DBB"
      },
      "execution_count": 152,
      "outputs": []
    },
    {
      "cell_type": "code",
      "source": [
        "def exercise05(n):\n",
        "    # The function exercise05() receives an integer n. Return an ndarray filled with zeros of size n x n (n rows, n columns)\n",
        "\n",
        "    # ------ Place code below here \\/ \\/ \\/ ------\n",
        "    zeros = np.zeros((n,n), dtype = int)\n",
        "\n",
        "    # ------ Place code above here /\\ /\\ /\\ ------\n",
        "    return zeros\n",
        "  "
      ],
      "metadata": {
        "id": "nLt0M1Qr4Ipw"
      },
      "execution_count": 153,
      "outputs": []
    },
    {
      "cell_type": "code",
      "source": [
        "def exercise06(n):\n",
        "    # The function exercise06() receives an integer n. Return an ndarray filled with ones of size n x n (n rows, n columns)\n",
        "\n",
        "    # ------ Place code below here \\/ \\/ \\/ ------\n",
        "    ones = np.ones((n,n), dtype = int)\n",
        "\n",
        "    # ------ Place code above here /\\ /\\ /\\ ------\n",
        "    return ones    "
      ],
      "metadata": {
        "id": "T5w-Yhee4KOx"
      },
      "execution_count": 154,
      "outputs": []
    },
    {
      "cell_type": "code",
      "source": [
        "def exercise07(sd,m,s):\n",
        "    # The function exercise07() receives integers sd, m, s which are standard deviation, mean and size respectively. \n",
        "    # Return an ndarray filled with s random numbers conforming to a normal distribution of standard deviation = sd and mean = m\n",
        "\n",
        "    # ------ Place code below here \\/ \\/ \\/ ------\n",
        "    random_numbers = np.random.normal(m,sd,s)\n",
        "    \n",
        "    # ------ Place code above here /\\ /\\ /\\ ------\n",
        "    return random_numbers"
      ],
      "metadata": {
        "id": "z6fVcl-Q4OuS"
      },
      "execution_count": 155,
      "outputs": []
    },
    {
      "cell_type": "code",
      "source": [
        "def exercise08():\n",
        "    '''\n",
        "    Load the CSV data from https://tinyurl.com/y63q7okz into a DataFrame\n",
        "    # Return the following items:\n",
        "    - row_count - Total # of rows\n",
        "    - avg_sq_ft - Average square feet across all transactions\n",
        "    - df_zip_95670 - DataFrame containing all transactions in zip code 95670\n",
        "    - df_zip_not_95610 - DataFrame containing all transactions not in zip code 95610\n",
        "    '''\n",
        "\n",
        "    # ------ Place code below here \\/ \\/ \\/ ------\n",
        "    df = pd.read_csv(\"https://tinyurl.com/y63q7okz\")\n",
        "    row_count = df.shape[0]\n",
        "    avg_sq_ft = df[\"sq__ft\"].mean()\n",
        "    df_zip_95670 = df.loc[df['zip'] == 95670]\n",
        "    df_zip_not_95610 = df.loc[df['zip'] != 95610]\n",
        "\n",
        "    # ------ Place code above here /\\ /\\ /\\ ------\n",
        "\n",
        "    return df, row_count, avg_sq_ft, df_zip_95670, df_zip_not_95610"
      ],
      "metadata": {
        "id": "_WRX8546tTqG"
      },
      "execution_count": 156,
      "outputs": []
    },
    {
      "cell_type": "code",
      "source": [
        "def exercise10(n):\n",
        "    # Create a numpy identity matrix of size n\n",
        "    # ------ Place code below here \\/ \\/ \\/ ------\n",
        "    identity_matrix = np.identity(n)\n",
        "\n",
        "    # ------ Place code above here /\\ /\\ /\\ ------  \n",
        "    return identity_matrix"
      ],
      "metadata": {
        "id": "XDKQFzmK4YEA"
      },
      "execution_count": 157,
      "outputs": []
    },
    {
      "cell_type": "code",
      "source": [
        "def exercise11(n):\n",
        "    '''\n",
        "    Using NumPy, create a single dimension array, array_1d, of size n containing integers 0 to n-1\n",
        "    Reshape the array. The reshaped array, array_reshaped, should be n/3 columns and 3 rows\n",
        "    '''\n",
        "    # ------ Place code below here \\/ \\/ \\/ ------\n",
        "    #array_1d = np.arange(0, n-1, 1)\n",
        "    #array_reshaped = array_1d.reshape,(int(n/3),3)\n",
        "    array_1d = np.arange(n)\n",
        "    array_reshaped = array_1d.reshape(3, int(n/3))\n",
        "    # ------ Place code above here /\\ /\\ /\\ ------  \n",
        "    return array_1d, array_reshaped"
      ],
      "metadata": {
        "id": "5Kd5MceRtrLg"
      },
      "execution_count": 158,
      "outputs": []
    },
    {
      "cell_type": "code",
      "source": [
        "def exercise12(n):\n",
        "    '''\n",
        "    Create a checkerboard NumPy matrix of size 2n x 2n using one line of code\n",
        "    A checkerboard matrix is a matrix with alternating 1s and 0s across rows and columns with the top left value equal to 1\n",
        "    '''\n",
        "    # ------ Place code below here \\/ \\/ \\/ ------\n",
        "    checkerboard_matrix = np.tile(np.array([[1,0],[0,1]]), (int(n*1), int(n*1)))\n",
        "\n",
        "    # ------ Place code above here /\\ /\\ /\\ ------ \n",
        "    return checkerboard_matrix"
      ],
      "metadata": {
        "id": "KtOU-9Fo4kHt"
      },
      "execution_count": 159,
      "outputs": []
    },
    {
      "cell_type": "code",
      "source": [
        "def exercise13(n):\n",
        "    '''\n",
        "    Create a pandas Series, s, with n random integers between 0 and n, for n days starting from 1/1/2010 and plot the\n",
        "    cumulative sum on a  chart. The data range should be an index. pd.date_range() may help. \n",
        "    \n",
        "    '''\n",
        "    # ------ Place code below here \\/ \\/ \\/ ------\n",
        "    s = pd.Series(np.random.randint(0,n,n), index = pd.date_range(start='2010-1-1', periods=n)).cumsum(axis=0)\n",
        "   \n",
        "   \n",
        "    # ------ Place code above here /\\ /\\ /\\ ------ \n",
        "    return s"
      ],
      "metadata": {
        "id": "QEx8QBts4no7"
      },
      "execution_count": 160,
      "outputs": []
    },
    {
      "cell_type": "code",
      "source": [
        "def exercise14(words):\n",
        "    '''\n",
        "    Exercise14() receives a Python list of words. Create and return a pandas DataFrame or Series that tabulates the length of \n",
        "    each word i.e. a list of the words hello, car, bye would produce a DataFrame with 3 rows and a column with the numbers 5,3,3\n",
        "    Using Series.map() and lambdas may help.\n",
        "    '''\n",
        "    # ------ Place code below here \\/ \\/ \\/ ------\n",
        "    s = pd.Series(words)\n",
        "    df = s.map(lambda x: len(x))\n",
        "  \n",
        "    # ------ Place code above here /\\ /\\ /\\ ------ \n",
        "    return df"
      ],
      "metadata": {
        "id": "alR7hF2t4rtL"
      },
      "execution_count": 161,
      "outputs": []
    },
    {
      "cell_type": "code",
      "source": [
        "def exercise15():\n",
        "    '''\n",
        "    Use the real estate transaction DataFrame from Exercise 8 and extract into a new DataFrame every 5th row using iloc \n",
        "    and just the street address and zip code columns. This can be done with one line of code.\n",
        "    '''\n",
        "    # ------ Place code below here \\/ \\/ \\/ ------\n",
        "\n",
        "    df = pd.read_csv(\"https://tinyurl.com/y63q7okz\")[['street','zip']].iloc[::5]\n",
        "\n",
        "    # ------ Place code above here /\\ /\\ /\\ ------ \n",
        "    return df"
      ],
      "metadata": {
        "id": "E51nEkgv4veW"
      },
      "execution_count": 162,
      "outputs": []
    },
    {
      "cell_type": "code",
      "source": [
        "class TestAssignment5(unittest.TestCase):\n",
        "    def test_exercise15(self):\n",
        "        print('Skipping exercise 15')\n",
        "        df = exercise15()\n",
        "        print(df)"
      ],
      "metadata": {
        "id": "Qx94SH5sZ3Lg"
      },
      "execution_count": 163,
      "outputs": []
    },
    {
      "cell_type": "code",
      "source": [
        "    def test_exercise14(self):\n",
        "        print('Skipping exercise 14')\n",
        "        df = exercise14(['cat','frog','walrus','antelope'])\n",
        "        print(df)"
      ],
      "metadata": {
        "id": "cT5EZZQQZ8sx"
      },
      "execution_count": 164,
      "outputs": []
    },
    {
      "cell_type": "code",
      "source": [
        "    def test_exercise13(self):\n",
        "        print('Testing exercise 13')\n",
        "        s= exercise13(1000)\n",
        "        self.assertEqual(s.index[0],pd.Timestamp('2010-01-01 00:00:00'))\n",
        "        self.assertEqual(len(s.index),1000)"
      ],
      "metadata": {
        "id": "gzCeFKk1aCPL"
      },
      "execution_count": 165,
      "outputs": []
    },
    {
      "cell_type": "code",
      "source": [
        "    def test_exercise12(self):\n",
        "        print('Testing exercise 12')\n",
        "        cm = exercise12(10)\n",
        "        self.assertEqual(cm.shape[0],20)\n",
        "        self.assertEqual(cm[0,0],1)\n",
        "        self.assertEqual(cm[0,1],0)\n",
        "        cm = exercise12(5)\n",
        "        self.assertEqual(cm.shape[0],10)\n",
        "        self.assertEqual(cm[0,0],1)\n",
        "        self.assertEqual(cm[0,1],0)    "
      ],
      "metadata": {
        "id": "4vvOqjQ9aHIi"
      },
      "execution_count": 166,
      "outputs": []
    },
    {
      "cell_type": "code",
      "source": [
        "    def test_exercise11(self):\n",
        "        print('Testing exercise 11')\n",
        "        a1d, ar = exercise11(15)\n",
        "        self.assertEqual(a1d.shape[0],15)\n",
        "        self.assertEqual(ar.shape[0],3)\n",
        "        self.assertEqual(ar.shape[1],5)"
      ],
      "metadata": {
        "id": "CAGjVdH0aSkz"
      },
      "execution_count": 167,
      "outputs": []
    },
    {
      "cell_type": "code",
      "source": [
        "    def test_exercise10(self):\n",
        "        print('Testing exercise 10')\n",
        "        im = exercise10(10)\n",
        "        self.assertEqual(im.shape[0],10)\n",
        "        self.assertEqual(im.shape[1],10)\n"
      ],
      "metadata": {
        "id": "KPdpVAmeaYU_"
      },
      "execution_count": 168,
      "outputs": []
    },
    {
      "cell_type": "code",
      "source": [
        "    def test_exercise08(self):\n",
        "        print('Testing exercise 8')\n",
        "        df, row_count, avg_sq_ft, df_zip_95670, df_zip_not_95610 = exercise08()\n",
        "        self.assertEqual(df.shape[0],985)\n",
        "        self.assertEqual(df.shape[1],12)\n",
        "        self.assertEqual(row_count,985)\n",
        "        self.assertAlmostEqual(avg_sq_ft,1314.91675127,2)\n",
        "        self.assertEqual(df_zip_95670.shape[0],21)\n",
        "        self.assertEqual(df_zip_not_95610.shape[0],978)"
      ],
      "metadata": {
        "id": "k_0O5tZVaaPC"
      },
      "execution_count": 169,
      "outputs": []
    },
    {
      "cell_type": "code",
      "source": [
        "    def test_exercise07(self):\n",
        "        print('Testing exercise 7')\n",
        "        z = exercise07(10,5,100000)\n",
        "        self.assertEqual(z.shape[0], 100000)\n",
        "        self.assertLessEqual(np.average(z), 5.2)\n",
        "        self.assertGreaterEqual(np.average(z), 4.7)\n",
        "        z = exercise07(5,10,100000)\n",
        "        self.assertEqual(z.shape[0], 100000)\n",
        "        self.assertLessEqual(np.average(z), 10.2)\n",
        "        self.assertGreaterEqual(np.average(z), 9.7)"
      ],
      "metadata": {
        "id": "WBxFsp_nagyT"
      },
      "execution_count": 170,
      "outputs": []
    },
    {
      "cell_type": "code",
      "source": [
        "    def test_exercise06(self):\n",
        "        print('Testing exercise 6')\n",
        "        z = exercise06(7).shape\n",
        "        self.assertEqual(z[0], 7)\n",
        "        self.assertEqual(z[1], 7)\n",
        "        z = exercise05(70).shape\n",
        "        self.assertEqual(z[0], 70)\n",
        "        self.assertEqual(z[1], 70)"
      ],
      "metadata": {
        "id": "WxaK_vIealti"
      },
      "execution_count": 171,
      "outputs": []
    },
    {
      "cell_type": "code",
      "source": [
        "    def test_exercise05(self):\n",
        "        print('Testing exercise 5')\n",
        "        z = exercise05(7).shape\n",
        "        self.assertEqual(z[0], 7)\n",
        "        self.assertEqual(z[1], 7)\n",
        "        z = exercise05(70).shape\n",
        "        self.assertEqual(z[0], 70)\n",
        "        self.assertEqual(z[1], 70)"
      ],
      "metadata": {
        "id": "1-imXGOXasTH"
      },
      "execution_count": 172,
      "outputs": []
    },
    {
      "cell_type": "code",
      "source": [
        "    def test_exercise04(self):\n",
        "        print('Testing exercise 4')\n",
        "        array = np.array([[1,1,1,1,1],[0,2,0,0,1]])\n",
        "        sum = exercise04(array)\n",
        "        self.assertEqual(sum, 3)\n",
        "        array = np.array([[1,6,1,1,1],[0,2,0,0,1]])\n",
        "        sum = exercise04(array)\n",
        "        self.assertEqual(sum, 8)"
      ],
      "metadata": {
        "id": "LTlSzTkDawwe"
      },
      "execution_count": 173,
      "outputs": []
    },
    {
      "cell_type": "code",
      "source": [
        "    def test_exercise03(self):\n",
        "        print('Testing exercise 3')\n",
        "        array = np.array([1,1,1,1,1])\n",
        "        sum = exercise03(array)\n",
        "        self.assertEqual(sum, 5)\n",
        "        array = np.array([2,4])\n",
        "        sum = exercise03(array)\n",
        "        self.assertEqual(sum, 6)"
      ],
      "metadata": {
        "id": "g17gIXvCa4AH"
      },
      "execution_count": 174,
      "outputs": []
    },
    {
      "cell_type": "code",
      "source": [
        "    def test_exercise01(self):\n",
        "        print('Testing exercise 1')\n",
        "        m = exercise01().shape\n",
        "        self.assertEqual(m[0], 3)\n",
        "        self.assertEqual(m[1], 4)"
      ],
      "metadata": {
        "id": "gc_EqgcLa55T"
      },
      "execution_count": 175,
      "outputs": []
    },
    {
      "cell_type": "code",
      "source": [
        "    def test_exercise02(self):\n",
        "        print('Testing exercise 2')\n",
        "        m = exercise02([1,2,3,4,5,6])\n",
        "        self.assertTrue(type(m) is np.ndarray)\n",
        "        self.assertEqual(m.shape[0], 6)"
      ],
      "metadata": {
        "id": "tsw-Gs3Fa-t6"
      },
      "execution_count": 176,
      "outputs": []
    },
    {
      "cell_type": "code",
      "source": [
        "if __name__ == '__main__':\n",
        "      unittest.main()"
      ],
      "metadata": {
        "colab": {
          "base_uri": "https://localhost:8080/",
          "height": 322
        },
        "id": "Dhq5F5FwbhLk",
        "outputId": "d65aa4d5-efbf-462c-eb00-680e8a287c1c"
      },
      "execution_count": 177,
      "outputs": [
        {
          "output_type": "stream",
          "name": "stderr",
          "text": [
            "E\n",
            "======================================================================\n",
            "ERROR: /root/ (unittest.loader._FailedTest)\n",
            "----------------------------------------------------------------------\n",
            "AttributeError: module '__main__' has no attribute '/root/'\n",
            "\n",
            "----------------------------------------------------------------------\n",
            "Ran 1 test in 0.002s\n",
            "\n",
            "FAILED (errors=1)\n"
          ]
        },
        {
          "output_type": "error",
          "ename": "SystemExit",
          "evalue": "ignored",
          "traceback": [
            "An exception has occurred, use %tb to see the full traceback.\n",
            "\u001b[0;31mSystemExit\u001b[0m\u001b[0;31m:\u001b[0m True\n"
          ]
        },
        {
          "output_type": "stream",
          "name": "stderr",
          "text": [
            "/usr/local/lib/python3.9/dist-packages/IPython/core/interactiveshell.py:3334: UserWarning: To exit: use 'exit', 'quit', or Ctrl-D.\n",
            "  warn(\"To exit: use 'exit', 'quit', or Ctrl-D.\", stacklevel=1)\n"
          ]
        }
      ]
    }
  ]
}