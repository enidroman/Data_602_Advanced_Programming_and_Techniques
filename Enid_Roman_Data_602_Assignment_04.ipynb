{
  "nbformat": 4,
  "nbformat_minor": 0,
  "metadata": {
    "colab": {
      "provenance": [],
      "authorship_tag": "ABX9TyNU6Yy75o4WNOebkHI+HzI+",
      "include_colab_link": true
    },
    "kernelspec": {
      "name": "python3",
      "display_name": "Python 3"
    },
    "language_info": {
      "name": "python"
    }
  },
  "cells": [
    {
      "cell_type": "markdown",
      "metadata": {
        "id": "view-in-github",
        "colab_type": "text"
      },
      "source": [
        "<a href=\"https://colab.research.google.com/github/enidroman/Data_602_Advanced_Programming_and_Techniques/blob/main/Enid_Roman_Data_602_Assignment_04.ipynb\" target=\"_parent\"><img src=\"https://colab.research.google.com/assets/colab-badge.svg\" alt=\"Open In Colab\"/></a>"
      ]
    },
    {
      "cell_type": "markdown",
      "source": [
        "Q1: Create a class called BankAccount that has four attributes: bankname, firstname,\n",
        "lastname, and balance.\n",
        "\n",
        "The default balance should be set to 0.\n",
        "\n",
        "In addition, create ...\n",
        "\n",
        "● A method called deposit() that allows the user to make deposits into their balance.\n",
        "\n",
        "● A method called withdrawal() that allows the user to withdraw from their balance.\n",
        "\n",
        "● Withdrawal may not exceed the available balance. Hint: consider a conditional argument\n",
        "in your withdrawal() method.\n",
        "\n",
        "\n",
        "● Use the __str__() method in order to display the bank name, owner name, and current\n",
        "balance.\n",
        "\n",
        "● Make a series of deposits and withdrawals to test your class."
      ],
      "metadata": {
        "id": "rPjZxB5L3Qt7"
      }
    },
    {
      "cell_type": "code",
      "source": [
        "# Python program to create Bankaccount class\n",
        "# with both a deposit() and a withdraw() function\n",
        "class Bank_Account:\n",
        "\n",
        "    def __init__(self, bank_name: str, account_number: str, first_name: str, last_name: str, balance: float):\n",
        "        self.bank_name = bank_name\n",
        "        self.account_number = account_number\n",
        "        self.first_name = first_name\n",
        "        self.last_name = last_name\n",
        "        self.balance = balance\n",
        "\n",
        "    def __str__(self):\n",
        "      return f\"Bank Name: {self.bank_name} \\nAccount Nummber: {self.account_number}\\nOwner Name: {self.first_name} {self.last_name}\\nCurrent Balance: {self.balance}\"\n",
        " \n",
        "#\"This would create object of BankAccount class\"\n",
        "acc1 = Bank_Account(\"Bank of Roman\", \"12345-678\", \"Enid\", \"Morales\", 0)\n",
        "\n",
        "\n",
        "print(acc1)  \n",
        "\n",
        "class Bank_Account:\n",
        "\n",
        "    def __init__(self):\n",
        "        self.balance=0\n",
        "        print(\"Hello!!! Welcome to the Deposit & Withdrawal Machine\")\n",
        " \n",
        "    def deposit(self):\n",
        "        amount=float(input(\"Enter amount to be Deposited: \"))\n",
        "        self.balance += amount\n",
        "        print(\"\\n Amount Deposited:\",amount)\n",
        " \n",
        "    def withdraw(self):\n",
        "        amount = float(input(\"Enter amount to be Withdrawn: \"))\n",
        "        if self.balance>=amount:\n",
        "            self.balance-=amount\n",
        "            print(\"\\n You Withdrew:\", amount)\n",
        "        else:\n",
        "            print(\"\\n Insufficient balance  \")\n",
        " \n",
        "    def display(self):\n",
        "        print(\"\\n Net Available Balance=\",self.balance)\n",
        " \n",
        "# Driver code\n",
        "  \n",
        "# creating an object of class\n",
        "s = Bank_Account()\n",
        "  \n",
        "# Calling functions with that class object\n",
        "s.deposit()\n",
        "s.withdraw()\n",
        "s.display()"
      ],
      "metadata": {
        "colab": {
          "base_uri": "https://localhost:8080/"
        },
        "id": "BJYjtqgfxpLx",
        "outputId": "6a99adab-baeb-4aee-c912-8d42bcb5d0b4"
      },
      "execution_count": null,
      "outputs": [
        {
          "output_type": "stream",
          "name": "stdout",
          "text": [
            "Bank Name: Bank of Roman \n",
            "Account Nummber: 12345-678\n",
            "Owner Name: Enid Morales\n",
            "Current Balance: 0\n",
            "Hello!!! Welcome to the Deposit & Withdrawal Machine\n",
            "Enter amount to be Deposited: 588\n",
            "\n",
            " Amount Deposited: 588.0\n",
            "Enter amount to be Withdrawn: 56\n",
            "\n",
            " You Withdrew: 56.0\n",
            "\n",
            " Net Available Balance= 532.0\n"
          ]
        }
      ]
    },
    {
      "cell_type": "markdown",
      "source": [
        "Q2: Create a class Box that has attributes length and width that takes values for length and width upon construction (instantiation via the constructor).\n",
        "\n",
        "In addition, create…\n",
        "\n",
        "● A method called render() that prints out to the screen a box made with asterisks of length and width dimensions\n",
        "\n",
        "● A method called invert() that switches length and width with each other\n",
        "\n",
        "● Methods get_area() and get_perimeter() that return appropriate geometric calculations\n",
        "\n",
        "● A method called double() that doubles the size of the box. Hint: Pay attention to return value here.\n",
        "\n",
        "● Implement __eq__ so that two boxes can be compared using ==. Two boxes are equal if their respective lengths and widths are identical.\n",
        "\n",
        "● A method print_dim() that prints to screen the length and width details of the box\n",
        "\n",
        "● A method get_dim() that returns a tuple containing the length and width of the box\n",
        "\n",
        "● A method combine() that takes another box as an argument and increases the length and width by the dimensions of the box passed in\n",
        "\n",
        "● A method get_hypot() that finds the length of the diagonal that cuts through the middle\n",
        "\n"
      ],
      "metadata": {
        "id": "FrUdrgHALIYD"
      }
    },
    {
      "cell_type": "markdown",
      "source": [
        "● Instantiate 3 boxes of dimensions 5,10 , 3,4 and 5,10 and assign to variables box1, box2 and box3 respectively\n",
        "\n",
        "● Print dimension info for each using print_dim()\n",
        "\n",
        "● Evaluate if box1 == box2, and also evaluate if box1 == box3, print True or False to the screen accordingly\n",
        "\n",
        "● Combine box3 into box1 (i.e. box1.combine())\n",
        "\n",
        "● Double the size of box2\n",
        "\n",
        "● Combine box2 into box1"
      ],
      "metadata": {
        "id": "pBoN6u4x-BWa"
      }
    },
    {
      "cell_type": "code",
      "source": [
        "# Create a class Box that has attributes length and width that takes values for length and width upon construction (instantiation via the constructor).\n",
        "class Box:\n",
        "  def __init__(self, length, width):\n",
        "    self.length = length\n",
        "    self.width = width\n",
        "\n",
        "# Create a method called render() that prints out to the screen a box made with asterisks of length and width dimensions\n",
        "  def render(self):\n",
        "      for i in range(self.length) :  \n",
        "        print(\"*\"*self.width)  \n",
        "           \n",
        "# A method called invert() that switches length and width with each other\n",
        "  def invert(self):\n",
        "    self.length, self.width = self.width, self.length\n",
        "\n",
        "# Methods get_area() and get_perimeter() that return appropriate geometric calculations\n",
        "  def get_area(self):\n",
        "    return (self.length * self.width)\n",
        "  \n",
        "  def get_perimeter(self):\n",
        "    return 2*(self.length + self.width)\n",
        "        \n",
        "# A method called double() that doubles the size of the box. Hint: Pay attention to return value here.\n",
        "  def double(self):\n",
        "    return Box(2*self.length, 2*self.width)\n",
        "  \n",
        "# Implement __eq__ so that two boxes can be compared using ==. Two boxes are equal if their respective lengths and widths are identical.\n",
        "  def __eq__(self, other):\n",
        "    return self.render == self.double\n",
        "\n",
        "# A method print_dim() that prints to screen the length and width details of the box\n",
        "  def print_dim(self):\n",
        "    print(f\"This box has a length of {self.length} and a width of {self.width}\")\n",
        "\n",
        "# A method get_dim() that returns a tuple containing the length and width of the box\n",
        "  def get_dim(self):\n",
        "    return (self.length, self.width)\n",
        "\n",
        "# A method combine() that takes another box as an argument and increases the length and width by the dimensions of the box passed in\n",
        "  def combine(self, other):\n",
        "    self.length += other.length\n",
        "    self.width += other.width\n",
        "\n",
        "# A method get_hypot() that finds the length of the diagonal that cuts through the middle\n",
        "  def get_hypot(self):\n",
        "    print((self.length**2 + self.width**2)**(1/2))\n",
        "\n",
        "# Instantiate 3 boxes of dimensions 5,10 , 3,4 and 5,10 and assign to variables box1, box2 and box3 respective\n",
        "box1 = Box(5,10)\n",
        "box2 = Box(3,4)\n",
        "box3 = Box(5,10)\n",
        "\n",
        "# Print dimension info for each using print_dim()\n",
        "box1.print_dim()\n",
        "box2.print_dim()\n",
        "box3.print_dim()\n",
        "\n",
        "# Evaluate if box1 == box2, and also evaluate if box1 == box3, print True or False to the screen accordingly\n",
        "print(box1 == box2)\n",
        "print(box1 == box3)\n",
        "\n",
        "# Combine box3 into box1 (i.e. box1.combine())\n",
        "box1.combine(box3)\n",
        "box1.print_dim()\n",
        "\n",
        "# Double the size of box2\n",
        "box2 = box2.double()\n",
        "box2.print_dim()\n",
        "\n",
        "# Combine box2 into bo\n",
        "box1.combine(box2)\n",
        "box1.print_dim()\n",
        "\n",
        "box1.render()\n",
        "\n",
        "box1.invert()\n",
        "box1.print_dim()\n",
        "\n"
      ],
      "metadata": {
        "colab": {
          "base_uri": "https://localhost:8080/"
        },
        "id": "hRfR8-ch2nD5",
        "outputId": "be35b37d-b83b-4b18-9293-c1aaf3dbcc94"
      },
      "execution_count": 55,
      "outputs": [
        {
          "output_type": "stream",
          "name": "stdout",
          "text": [
            "This box has a length of 5 and a width of 10\n",
            "This box has a length of 3 and a width of 4\n",
            "This box has a length of 5 and a width of 10\n",
            "False\n",
            "False\n",
            "This box has a length of 10 and a width of 20\n",
            "This box has a length of 6 and a width of 8\n",
            "This box has a length of 16 and a width of 28\n",
            "****************************\n",
            "****************************\n",
            "****************************\n",
            "****************************\n",
            "****************************\n",
            "****************************\n",
            "****************************\n",
            "****************************\n",
            "****************************\n",
            "****************************\n",
            "****************************\n",
            "****************************\n",
            "****************************\n",
            "****************************\n",
            "****************************\n",
            "****************************\n",
            "This box has a length of 28 and a width of 16\n"
          ]
        }
      ]
    }
  ]
}