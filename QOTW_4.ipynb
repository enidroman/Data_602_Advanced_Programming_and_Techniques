{
  "nbformat": 4,
  "nbformat_minor": 0,
  "metadata": {
    "colab": {
      "provenance": [],
      "authorship_tag": "ABX9TyOZiNOL3uNdSNJjfcOEyHP+",
      "include_colab_link": true
    },
    "kernelspec": {
      "name": "python3",
      "display_name": "Python 3"
    },
    "language_info": {
      "name": "python"
    }
  },
  "cells": [
    {
      "cell_type": "markdown",
      "metadata": {
        "id": "view-in-github",
        "colab_type": "text"
      },
      "source": [
        "<a href=\"https://colab.research.google.com/github/enidroman/Data_602_Advanced_Programming_and_Techniques/blob/main/QOTW_4.ipynb\" target=\"_parent\"><img src=\"https://colab.research.google.com/assets/colab-badge.svg\" alt=\"Open In Colab\"/></a>"
      ]
    },
    {
      "cell_type": "code",
      "execution_count": null,
      "metadata": {
        "colab": {
          "base_uri": "https://localhost:8080/"
        },
        "id": "1_Cdqks0J868",
        "outputId": "ba0ed04d-c88a-45eb-c856-d94fb26ed200"
      },
      "outputs": [
        {
          "output_type": "stream",
          "name": "stdout",
          "text": [
            "Enter Length and Breadth of Rectangle: 15\n",
            "5\n",
            "\n",
            "Perimeter = 40.00\n"
          ]
        }
      ],
      "source": [
        "# 1. Write a function to calculate the area and perimeter of a rectangle.\n",
        "\n",
        "def findPeri(a, b):\n",
        "    p = 2*(a+b)\n",
        "    return p\n",
        "\n",
        "print(\"Enter Length and Breadth of Rectangle: \", end=\"\")\n",
        "l = float(input())\n",
        "b = float(input())\n",
        "\n",
        "res = findPeri(l, b)\n",
        "print(\"\\nPerimeter = {:.2f}\".format(res))"
      ]
    },
    {
      "cell_type": "code",
      "source": [
        "# 2. Write a function to check if a number is even or not.  The function should indicate to the user even or odd.\n",
        "\n",
        "num = int(input(\"Enter a number: \"))\n",
        "mod = num % 2\n",
        "if mod > 0:\n",
        "    print(\"This is an odd number.\")\n",
        "else:\n",
        "    print(\"This is an even number.\")\n",
        "\n",
        "\n",
        "\n"
      ],
      "metadata": {
        "colab": {
          "base_uri": "https://localhost:8080/"
        },
        "id": "U83X0CHFMERX",
        "outputId": "a9a5d2c3-e053-4caa-c664-553dd718ab8f"
      },
      "execution_count": null,
      "outputs": [
        {
          "output_type": "stream",
          "name": "stdout",
          "text": [
            "Enter a number: 5\n",
            "This is an odd number.\n"
          ]
        }
      ]
    },
    {
      "cell_type": "code",
      "source": [
        "# 3. Write a Python function that accepts a string and calculate the number of upper case letters and lower case letters.\n",
        "\n",
        "# Sample string: “CUNY sps”\n",
        "# of upper case characters: 4\n",
        "# of lower case characters: 3\n",
        "\n",
        "string=input(\"Enter string:\")\n",
        "count1=0\n",
        "count2=0\n",
        "for i in string:\n",
        "      if(i.islower()):\n",
        "            count1=count1+1\n",
        "      elif(i.isupper()):\n",
        "            count2=count2+1\n",
        "print(\"The number of lowercase characters is:\")\n",
        "print(count1)\n",
        "print(\"The number of uppercase characters is:\")\n",
        "print(count2)"
      ],
      "metadata": {
        "colab": {
          "base_uri": "https://localhost:8080/"
        },
        "id": "6CgatG_tOtBA",
        "outputId": "bf2c8f76-50c1-4a6f-ba88-0185888b8bdf"
      },
      "execution_count": null,
      "outputs": [
        {
          "output_type": "stream",
          "name": "stdout",
          "text": [
            "Enter string:CUNY School of Professional Studies\n",
            "The number of lowercase characters is:\n",
            "24\n",
            "The number of uppercase characters is:\n",
            "7\n"
          ]
        }
      ]
    },
    {
      "cell_type": "code",
      "source": [
        "# 4. Write a Python function to sum all the numbers in a list.\n",
        "\n",
        "list1 = [17, 6, 23, 1, 43]\n",
        " \n",
        "total = sum(list1)\n",
        " \n",
        "print(\"Sum of all elements in given list: \", total)"
      ],
      "metadata": {
        "colab": {
          "base_uri": "https://localhost:8080/"
        },
        "id": "UFir8DiHSjm6",
        "outputId": "2d525c1f-461d-4427-e9d2-1515110f3358"
      },
      "execution_count": null,
      "outputs": [
        {
          "output_type": "stream",
          "name": "stdout",
          "text": [
            "Sum of all elements in given list:  90\n"
          ]
        }
      ]
    },
    {
      "cell_type": "code",
      "source": [
        "# 5. Create a function that shows an example of global vs local variables.\n",
        "\n",
        "# This function uses global variable s\n",
        "def f():\n",
        "    print(\"Inside Function\", s)\n",
        "  \n",
        "# Global scope\n",
        "s = \"I love Python\"\n",
        "f()\n",
        "print(\"Outside Function\", s)"
      ],
      "metadata": {
        "colab": {
          "base_uri": "https://localhost:8080/"
        },
        "id": "0mWi_A1yUqes",
        "outputId": "ae3355b6-3c8f-478e-f03d-40e31461e540"
      },
      "execution_count": null,
      "outputs": [
        {
          "output_type": "stream",
          "name": "stdout",
          "text": [
            "Inside Function I love Python\n",
            "Outside Function I love Python\n"
          ]
        }
      ]
    },
    {
      "cell_type": "code",
      "source": [
        "# 6. Write a Python program to create a function that takes one argument, and that argument will be multiplied with an unknown given number.\n",
        "\n",
        "def func_compute(n):\n",
        " return lambda x : x * n\n",
        "result = func_compute(2)\n",
        "print(\"Double the number of 15 =\", result(15))\n",
        "result = func_compute(3)\n",
        "print(\"Triple the number of 15 =\", result(15))\n",
        "result = func_compute(4)\n",
        "print(\"Quadruple the number of 15 =\", result(15))\n",
        "result = func_compute(5)\n",
        "print(\"Quintuple the number 15 =\", result(15))"
      ],
      "metadata": {
        "colab": {
          "base_uri": "https://localhost:8080/"
        },
        "id": "zbBQCoYhVtRx",
        "outputId": "567acef8-778c-4d5d-f991-0797984e9e87"
      },
      "execution_count": null,
      "outputs": [
        {
          "output_type": "stream",
          "name": "stdout",
          "text": [
            "Double the number of 15 = 30\n",
            "Triple the number of 15 = 45\n",
            "Quadruple the number of 15 = 60\n",
            "Quintuple the number 15 = 75\n"
          ]
        }
      ]
    }
  ]
}