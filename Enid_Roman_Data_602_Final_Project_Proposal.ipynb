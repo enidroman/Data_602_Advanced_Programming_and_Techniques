{
  "nbformat": 4,
  "nbformat_minor": 0,
  "metadata": {
    "colab": {
      "provenance": [],
      "authorship_tag": "ABX9TyMgVq2XWNpNtncFwj2IR+0d",
      "include_colab_link": true
    },
    "kernelspec": {
      "name": "python3",
      "display_name": "Python 3"
    },
    "language_info": {
      "name": "python"
    }
  },
  "cells": [
    {
      "cell_type": "markdown",
      "metadata": {
        "id": "view-in-github",
        "colab_type": "text"
      },
      "source": [
        "<a href=\"https://colab.research.google.com/github/enidroman/Data_602_Advanced_Programming_and_Techniques/blob/main/Enid_Roman_Data_602_Final_Project_Proposal.ipynb\" target=\"_parent\"><img src=\"https://colab.research.google.com/assets/colab-badge.svg\" alt=\"Open In Colab\"/></a>"
      ]
    },
    {
      "cell_type": "markdown",
      "source": [
        "# Research Question"
      ],
      "metadata": {
        "id": "_T2xwFXWFvpU"
      }
    },
    {
      "cell_type": "markdown",
      "source": [
        "Can we predict if a person is prone to a heart disease or not?"
      ],
      "metadata": {
        "id": "8ZBY30dtF2FG"
      }
    },
    {
      "cell_type": "markdown",
      "source": [
        "# Justification - Why is this relevant to you or industry?"
      ],
      "metadata": {
        "id": "WhQVCD3aKoku"
      }
    },
    {
      "cell_type": "markdown",
      "source": [
        "This is relevant to me because I have a family history of heart disease and I am considered as high risk in getting heart disease. \n",
        "\n",
        "Cardiovascular diseases (CVDs) are the number 1 cause of death globally, taking an estimated 17.9 million lives each year, which accounts for 31% of all deaths worldwide. Four out of 5CVD deaths are due to heart attacks and strokes, and one-third of these deaths occur prematurely in people under 70 years of age. Heart failure is a common event caused by CVDs and this dataset contains 13 features that can be used to predict a possible heart disease.\n",
        "\n",
        "People with cardiovascular disease or who are at high cardiovascular risk (due to the presence of one or more risk factors such as hypertension, diabetes, hyperlipidaemia or already established disease) need early detection and management wherein a machine learning model can be of great help. \n",
        "\n",
        "This is a data set used to predict heart disease. Patients were classified as having or not having heart disease based on cardiac catheterization, the gold standard. If they had more than 50% narrowing of a coronary artery they were labeled as having heart disease. \n",
        "\n",
        "There are 270 patients and there are 13 independent predictive variables and one target variable or column attributes. The attributes are explained below and on the website: https://archive.ics.uci.edu/ml/datasets/Heart+Disease. \n",
        "\n",
        "Reference: https://www.kaggle.com/datasets/fedesoriano/heart-failure-prediction\n",
        "\n",
        "https://data.world/informatics-edu/heart-disease-prediction\n",
        "\n"
      ],
      "metadata": {
        "id": "HC2XzQPoHVkS"
      }
    },
    {
      "cell_type": "markdown",
      "source": [
        "# Data Sources - Did you find this data online or collect yourself? Provide links."
      ],
      "metadata": {
        "id": "QsFVqeTHMR29"
      }
    },
    {
      "cell_type": "markdown",
      "source": [
        "This is a data world dataset. This data set came from the University of California Irvine data repository and is used to predict heart disease. Link is provided here: https://data.world/informatics-edu/heart-disease-prediction"
      ],
      "metadata": {
        "id": "nD1Zj9roMfxq"
      }
    },
    {
      "cell_type": "markdown",
      "source": [
        "# Libraries potentially being used."
      ],
      "metadata": {
        "id": "D1QmkyjEOKd8"
      }
    },
    {
      "cell_type": "markdown",
      "source": [
        "* Pandas Library - Since the dataset is delivered as a csv file, the pandas library will be utilized to manipulate the data in a form of a dataframe. \n",
        "\n",
        "* Numpy Library - The numpy library is useful for performing mathematical operations on single or mulitdimensial arrays so the methods in this library will be used to process numerical values that are available in this dataset. \n",
        "\n",
        "* Matplotlib Library - I will be using Matplotlib Library which is the basic visualizing or plotting library of the python programming language. Matplotlib is a powerful tool for executing a variety of tasks. It is able to create different types of visualization reports like line plots, scatter plots, histograms, bar charts, pie charts, box plots, and many more different plots. This library also supports 3-dimensional plotting.\n",
        "\n",
        "* Seaborn Library - I will be using Seaborn to make statistical graphics. It builds on top of matplotlib and integrates closely with pandas data structures.\n",
        "\n",
        "* Scikit-learn - I will be using Scikit-learn library for my prediction analysis. This is the most useful and robust library for machine learning in Python. It provides a selection of efficient tools for machine learning and statistical modeling including classification, regression, clustering and dimensionality reduction via a consistence interface in Python. This library, which is largely written in Python, is built upon NumPy, SciPy and Matplotlib."
      ],
      "metadata": {
        "id": "zzF2H_4pOZCB"
      }
    },
    {
      "cell_type": "markdown",
      "source": [
        "# EDA and summary statistics."
      ],
      "metadata": {
        "id": "0mDCi2QiYIfH"
      }
    },
    {
      "cell_type": "markdown",
      "source": [
        "Below is the summary statistics. We first see a preview of the first 5 rows and the last 5 rows of the data."
      ],
      "metadata": {
        "id": "zW1CCvFCYL0k"
      }
    },
    {
      "cell_type": "code",
      "source": [
        "# Import libraries needed. \n",
        "import pandas as pd"
      ],
      "metadata": {
        "id": "xlQCIPzFZ1DR"
      },
      "execution_count": 64,
      "outputs": []
    },
    {
      "cell_type": "code",
      "execution_count": 65,
      "metadata": {
        "id": "0RMDgSG3FLd4"
      },
      "outputs": [],
      "source": [
        "# Upload dataset.\n",
        "df = pd.read_csv('https://raw.githubusercontent.com/enidroman/Data_602_Advanced_Programming_and_Techniques/main/heart_desease_prediction.csv')"
      ]
    },
    {
      "cell_type": "code",
      "source": [
        "# Preview of the first 5 rows and last 5 rows of the data. \n",
        "df"
      ],
      "metadata": {
        "colab": {
          "base_uri": "https://localhost:8080/",
          "height": 424
        },
        "id": "fJunyiShZ4K0",
        "outputId": "42e39466-2812-4690-ff56-c71f519c836c"
      },
      "execution_count": 66,
      "outputs": [
        {
          "output_type": "execute_result",
          "data": {
            "text/plain": [
              "     age  sex  cp  trestbps  chol  fbs  restecg  thalach  exang  oldpeak  \\\n",
              "0     70    1   4       130   322    0        2      109      0      2.4   \n",
              "1     67    0   3       115   564    0        2      160      0      1.6   \n",
              "2     57    1   2       124   261    0        0      141      0      0.3   \n",
              "3     64    1   4       128   263    0        0      105      1      0.2   \n",
              "4     74    0   2       120   269    0        2      121      1      0.2   \n",
              "..   ...  ...  ..       ...   ...  ...      ...      ...    ...      ...   \n",
              "265   52    1   3       172   199    1        0      162      0      0.5   \n",
              "266   44    1   2       120   263    0        0      173      0      0.0   \n",
              "267   56    0   2       140   294    0        2      153      0      1.3   \n",
              "268   57    1   4       140   192    0        0      148      0      0.4   \n",
              "269   67    1   4       160   286    0        2      108      1      1.5   \n",
              "\n",
              "     slope  ca  thal       num  \n",
              "0        2   3     3  Presence  \n",
              "1        2   0     7   Absence  \n",
              "2        1   0     7  Presence  \n",
              "3        2   1     7   Absence  \n",
              "4        1   1     3   Absence  \n",
              "..     ...  ..   ...       ...  \n",
              "265      1   0     7   Absence  \n",
              "266      1   0     7   Absence  \n",
              "267      2   0     3   Absence  \n",
              "268      2   0     6   Absence  \n",
              "269      2   3     3  Presence  \n",
              "\n",
              "[270 rows x 14 columns]"
            ],
            "text/html": [
              "\n",
              "  <div id=\"df-7545e7b5-dffc-485d-a643-5198e7b23473\">\n",
              "    <div class=\"colab-df-container\">\n",
              "      <div>\n",
              "<style scoped>\n",
              "    .dataframe tbody tr th:only-of-type {\n",
              "        vertical-align: middle;\n",
              "    }\n",
              "\n",
              "    .dataframe tbody tr th {\n",
              "        vertical-align: top;\n",
              "    }\n",
              "\n",
              "    .dataframe thead th {\n",
              "        text-align: right;\n",
              "    }\n",
              "</style>\n",
              "<table border=\"1\" class=\"dataframe\">\n",
              "  <thead>\n",
              "    <tr style=\"text-align: right;\">\n",
              "      <th></th>\n",
              "      <th>age</th>\n",
              "      <th>sex</th>\n",
              "      <th>cp</th>\n",
              "      <th>trestbps</th>\n",
              "      <th>chol</th>\n",
              "      <th>fbs</th>\n",
              "      <th>restecg</th>\n",
              "      <th>thalach</th>\n",
              "      <th>exang</th>\n",
              "      <th>oldpeak</th>\n",
              "      <th>slope</th>\n",
              "      <th>ca</th>\n",
              "      <th>thal</th>\n",
              "      <th>num</th>\n",
              "    </tr>\n",
              "  </thead>\n",
              "  <tbody>\n",
              "    <tr>\n",
              "      <th>0</th>\n",
              "      <td>70</td>\n",
              "      <td>1</td>\n",
              "      <td>4</td>\n",
              "      <td>130</td>\n",
              "      <td>322</td>\n",
              "      <td>0</td>\n",
              "      <td>2</td>\n",
              "      <td>109</td>\n",
              "      <td>0</td>\n",
              "      <td>2.4</td>\n",
              "      <td>2</td>\n",
              "      <td>3</td>\n",
              "      <td>3</td>\n",
              "      <td>Presence</td>\n",
              "    </tr>\n",
              "    <tr>\n",
              "      <th>1</th>\n",
              "      <td>67</td>\n",
              "      <td>0</td>\n",
              "      <td>3</td>\n",
              "      <td>115</td>\n",
              "      <td>564</td>\n",
              "      <td>0</td>\n",
              "      <td>2</td>\n",
              "      <td>160</td>\n",
              "      <td>0</td>\n",
              "      <td>1.6</td>\n",
              "      <td>2</td>\n",
              "      <td>0</td>\n",
              "      <td>7</td>\n",
              "      <td>Absence</td>\n",
              "    </tr>\n",
              "    <tr>\n",
              "      <th>2</th>\n",
              "      <td>57</td>\n",
              "      <td>1</td>\n",
              "      <td>2</td>\n",
              "      <td>124</td>\n",
              "      <td>261</td>\n",
              "      <td>0</td>\n",
              "      <td>0</td>\n",
              "      <td>141</td>\n",
              "      <td>0</td>\n",
              "      <td>0.3</td>\n",
              "      <td>1</td>\n",
              "      <td>0</td>\n",
              "      <td>7</td>\n",
              "      <td>Presence</td>\n",
              "    </tr>\n",
              "    <tr>\n",
              "      <th>3</th>\n",
              "      <td>64</td>\n",
              "      <td>1</td>\n",
              "      <td>4</td>\n",
              "      <td>128</td>\n",
              "      <td>263</td>\n",
              "      <td>0</td>\n",
              "      <td>0</td>\n",
              "      <td>105</td>\n",
              "      <td>1</td>\n",
              "      <td>0.2</td>\n",
              "      <td>2</td>\n",
              "      <td>1</td>\n",
              "      <td>7</td>\n",
              "      <td>Absence</td>\n",
              "    </tr>\n",
              "    <tr>\n",
              "      <th>4</th>\n",
              "      <td>74</td>\n",
              "      <td>0</td>\n",
              "      <td>2</td>\n",
              "      <td>120</td>\n",
              "      <td>269</td>\n",
              "      <td>0</td>\n",
              "      <td>2</td>\n",
              "      <td>121</td>\n",
              "      <td>1</td>\n",
              "      <td>0.2</td>\n",
              "      <td>1</td>\n",
              "      <td>1</td>\n",
              "      <td>3</td>\n",
              "      <td>Absence</td>\n",
              "    </tr>\n",
              "    <tr>\n",
              "      <th>...</th>\n",
              "      <td>...</td>\n",
              "      <td>...</td>\n",
              "      <td>...</td>\n",
              "      <td>...</td>\n",
              "      <td>...</td>\n",
              "      <td>...</td>\n",
              "      <td>...</td>\n",
              "      <td>...</td>\n",
              "      <td>...</td>\n",
              "      <td>...</td>\n",
              "      <td>...</td>\n",
              "      <td>...</td>\n",
              "      <td>...</td>\n",
              "      <td>...</td>\n",
              "    </tr>\n",
              "    <tr>\n",
              "      <th>265</th>\n",
              "      <td>52</td>\n",
              "      <td>1</td>\n",
              "      <td>3</td>\n",
              "      <td>172</td>\n",
              "      <td>199</td>\n",
              "      <td>1</td>\n",
              "      <td>0</td>\n",
              "      <td>162</td>\n",
              "      <td>0</td>\n",
              "      <td>0.5</td>\n",
              "      <td>1</td>\n",
              "      <td>0</td>\n",
              "      <td>7</td>\n",
              "      <td>Absence</td>\n",
              "    </tr>\n",
              "    <tr>\n",
              "      <th>266</th>\n",
              "      <td>44</td>\n",
              "      <td>1</td>\n",
              "      <td>2</td>\n",
              "      <td>120</td>\n",
              "      <td>263</td>\n",
              "      <td>0</td>\n",
              "      <td>0</td>\n",
              "      <td>173</td>\n",
              "      <td>0</td>\n",
              "      <td>0.0</td>\n",
              "      <td>1</td>\n",
              "      <td>0</td>\n",
              "      <td>7</td>\n",
              "      <td>Absence</td>\n",
              "    </tr>\n",
              "    <tr>\n",
              "      <th>267</th>\n",
              "      <td>56</td>\n",
              "      <td>0</td>\n",
              "      <td>2</td>\n",
              "      <td>140</td>\n",
              "      <td>294</td>\n",
              "      <td>0</td>\n",
              "      <td>2</td>\n",
              "      <td>153</td>\n",
              "      <td>0</td>\n",
              "      <td>1.3</td>\n",
              "      <td>2</td>\n",
              "      <td>0</td>\n",
              "      <td>3</td>\n",
              "      <td>Absence</td>\n",
              "    </tr>\n",
              "    <tr>\n",
              "      <th>268</th>\n",
              "      <td>57</td>\n",
              "      <td>1</td>\n",
              "      <td>4</td>\n",
              "      <td>140</td>\n",
              "      <td>192</td>\n",
              "      <td>0</td>\n",
              "      <td>0</td>\n",
              "      <td>148</td>\n",
              "      <td>0</td>\n",
              "      <td>0.4</td>\n",
              "      <td>2</td>\n",
              "      <td>0</td>\n",
              "      <td>6</td>\n",
              "      <td>Absence</td>\n",
              "    </tr>\n",
              "    <tr>\n",
              "      <th>269</th>\n",
              "      <td>67</td>\n",
              "      <td>1</td>\n",
              "      <td>4</td>\n",
              "      <td>160</td>\n",
              "      <td>286</td>\n",
              "      <td>0</td>\n",
              "      <td>2</td>\n",
              "      <td>108</td>\n",
              "      <td>1</td>\n",
              "      <td>1.5</td>\n",
              "      <td>2</td>\n",
              "      <td>3</td>\n",
              "      <td>3</td>\n",
              "      <td>Presence</td>\n",
              "    </tr>\n",
              "  </tbody>\n",
              "</table>\n",
              "<p>270 rows × 14 columns</p>\n",
              "</div>\n",
              "      <button class=\"colab-df-convert\" onclick=\"convertToInteractive('df-7545e7b5-dffc-485d-a643-5198e7b23473')\"\n",
              "              title=\"Convert this dataframe to an interactive table.\"\n",
              "              style=\"display:none;\">\n",
              "        \n",
              "  <svg xmlns=\"http://www.w3.org/2000/svg\" height=\"24px\"viewBox=\"0 0 24 24\"\n",
              "       width=\"24px\">\n",
              "    <path d=\"M0 0h24v24H0V0z\" fill=\"none\"/>\n",
              "    <path d=\"M18.56 5.44l.94 2.06.94-2.06 2.06-.94-2.06-.94-.94-2.06-.94 2.06-2.06.94zm-11 1L8.5 8.5l.94-2.06 2.06-.94-2.06-.94L8.5 2.5l-.94 2.06-2.06.94zm10 10l.94 2.06.94-2.06 2.06-.94-2.06-.94-.94-2.06-.94 2.06-2.06.94z\"/><path d=\"M17.41 7.96l-1.37-1.37c-.4-.4-.92-.59-1.43-.59-.52 0-1.04.2-1.43.59L10.3 9.45l-7.72 7.72c-.78.78-.78 2.05 0 2.83L4 21.41c.39.39.9.59 1.41.59.51 0 1.02-.2 1.41-.59l7.78-7.78 2.81-2.81c.8-.78.8-2.07 0-2.86zM5.41 20L4 18.59l7.72-7.72 1.47 1.35L5.41 20z\"/>\n",
              "  </svg>\n",
              "      </button>\n",
              "      \n",
              "  <style>\n",
              "    .colab-df-container {\n",
              "      display:flex;\n",
              "      flex-wrap:wrap;\n",
              "      gap: 12px;\n",
              "    }\n",
              "\n",
              "    .colab-df-convert {\n",
              "      background-color: #E8F0FE;\n",
              "      border: none;\n",
              "      border-radius: 50%;\n",
              "      cursor: pointer;\n",
              "      display: none;\n",
              "      fill: #1967D2;\n",
              "      height: 32px;\n",
              "      padding: 0 0 0 0;\n",
              "      width: 32px;\n",
              "    }\n",
              "\n",
              "    .colab-df-convert:hover {\n",
              "      background-color: #E2EBFA;\n",
              "      box-shadow: 0px 1px 2px rgba(60, 64, 67, 0.3), 0px 1px 3px 1px rgba(60, 64, 67, 0.15);\n",
              "      fill: #174EA6;\n",
              "    }\n",
              "\n",
              "    [theme=dark] .colab-df-convert {\n",
              "      background-color: #3B4455;\n",
              "      fill: #D2E3FC;\n",
              "    }\n",
              "\n",
              "    [theme=dark] .colab-df-convert:hover {\n",
              "      background-color: #434B5C;\n",
              "      box-shadow: 0px 1px 3px 1px rgba(0, 0, 0, 0.15);\n",
              "      filter: drop-shadow(0px 1px 2px rgba(0, 0, 0, 0.3));\n",
              "      fill: #FFFFFF;\n",
              "    }\n",
              "  </style>\n",
              "\n",
              "      <script>\n",
              "        const buttonEl =\n",
              "          document.querySelector('#df-7545e7b5-dffc-485d-a643-5198e7b23473 button.colab-df-convert');\n",
              "        buttonEl.style.display =\n",
              "          google.colab.kernel.accessAllowed ? 'block' : 'none';\n",
              "\n",
              "        async function convertToInteractive(key) {\n",
              "          const element = document.querySelector('#df-7545e7b5-dffc-485d-a643-5198e7b23473');\n",
              "          const dataTable =\n",
              "            await google.colab.kernel.invokeFunction('convertToInteractive',\n",
              "                                                     [key], {});\n",
              "          if (!dataTable) return;\n",
              "\n",
              "          const docLinkHtml = 'Like what you see? Visit the ' +\n",
              "            '<a target=\"_blank\" href=https://colab.research.google.com/notebooks/data_table.ipynb>data table notebook</a>'\n",
              "            + ' to learn more about interactive tables.';\n",
              "          element.innerHTML = '';\n",
              "          dataTable['output_type'] = 'display_data';\n",
              "          await google.colab.output.renderOutput(dataTable, element);\n",
              "          const docLink = document.createElement('div');\n",
              "          docLink.innerHTML = docLinkHtml;\n",
              "          element.appendChild(docLink);\n",
              "        }\n",
              "      </script>\n",
              "    </div>\n",
              "  </div>\n",
              "  "
            ]
          },
          "metadata": {},
          "execution_count": 66
        }
      ]
    },
    {
      "cell_type": "markdown",
      "source": [
        "There are 270 rows and 14 columns. "
      ],
      "metadata": {
        "id": "jFtFqR9Oe2W5"
      }
    },
    {
      "cell_type": "code",
      "source": [
        "# df.shape will display the number of observations(rows) and features(columns) in the dataset.\n",
        "df.shape"
      ],
      "metadata": {
        "colab": {
          "base_uri": "https://localhost:8080/"
        },
        "id": "eHKbIkWZemyq",
        "outputId": "4db27cb5-e2fa-4290-ccd5-3a638d43029c"
      },
      "execution_count": 67,
      "outputs": [
        {
          "output_type": "execute_result",
          "data": {
            "text/plain": [
              "(270, 14)"
            ]
          },
          "metadata": {},
          "execution_count": 67
        }
      ]
    },
    {
      "cell_type": "markdown",
      "source": [
        "The 14 columns or attributes are:\n",
        "* age - age of the patient in years\n",
        "\n",
        "* sex - sex of the patient (1: Male, 2: Female)\n",
        "\n",
        "* cp - chest pain type\n",
        " * 1: typical angina\n",
        " * 2: atypical angina\n",
        " * 3: non-anginal pain\n",
        " * 4: asymptomatic\n",
        "\n",
        "* trestbps - resting blood pressure (in mm Hg on admission to the hospital)\n",
        "\n",
        "* chol - serum cholestoral in mg/dl\n",
        "\n",
        "* fbs - fasting blood sugar (1: if FastingBS > 120 mg/dl, 0: otherwise)\n",
        "\n",
        "* restecg -  resting electrocardiographic results\n",
        " * 0: normal\n",
        " * 1: having ST-T wave abnormality (T wave inversions and/or ST elevation or depression of > 0.05 mV)\n",
        " * 2: showing probable or definite left ventricular hypertrophy by Estes' criteria\n",
        "\n",
        "* thalach - maximum heart rate achieved (Numeric value between 60 and 202)\n",
        "\n",
        "* exang - exercise induced angina (1 = yes; 0 = no)\n",
        "\n",
        "* oldpeak - ST depression induced by exercise relative to rest\n",
        "\n",
        "* slope - the slope of the peak exercise ST segment\n",
        " * 1: upsloping\n",
        " * 2: flat\n",
        " * 3: downsloping\n",
        "\n",
        "* ca - number of major vessels (0-3) colored by flourosopy\n",
        "\n",
        "* thal - 3 = normal; 6 = fixed defect; 7 = reversable defect\n",
        "\n",
        "* num - diagnosis of heart disease (angiographic disease status) \n",
        "  This is the predicted attribute - target variable\n",
        " * 0: < 50% diameter narrowing (normal)\n",
        " * 1: > 50% diameter narrowing (heart disease)"
      ],
      "metadata": {
        "id": "H9V4m2Tzg_1g"
      }
    },
    {
      "cell_type": "code",
      "source": [
        "# df.columns displays the columns name. \n",
        "df.columns"
      ],
      "metadata": {
        "colab": {
          "base_uri": "https://localhost:8080/"
        },
        "id": "t8Kj-zi-d4jK",
        "outputId": "ee7e2d32-ea0c-4426-86eb-d0e47cb8aed8"
      },
      "execution_count": 68,
      "outputs": [
        {
          "output_type": "execute_result",
          "data": {
            "text/plain": [
              "Index(['age', 'sex', 'cp', 'trestbps', 'chol', 'fbs', 'restecg', 'thalach',\n",
              "       'exang', 'oldpeak', 'slope', 'ca', 'thal', 'num'],\n",
              "      dtype='object')"
            ]
          },
          "metadata": {},
          "execution_count": 68
        }
      ]
    },
    {
      "cell_type": "markdown",
      "source": [
        "There are 12 integers and 1 float and 1 object. There are 270, from index 0 to 269 records in each columns containing non-null values, meaning there are no missing value in this dataset. "
      ],
      "metadata": {
        "id": "cfbqKw9OslHU"
      }
    },
    {
      "cell_type": "code",
      "source": [
        "# df.info helps to understand the data type and information about data, \n",
        "# including the number of records in each column, data having null or not null, \n",
        "# Data type, the memory usage of the dataset\n",
        "df.info()"
      ],
      "metadata": {
        "colab": {
          "base_uri": "https://localhost:8080/"
        },
        "id": "AZ1Pj4HQbAfT",
        "outputId": "f57b00d5-f755-4cee-f839-1e284478c972"
      },
      "execution_count": 69,
      "outputs": [
        {
          "output_type": "stream",
          "name": "stdout",
          "text": [
            "<class 'pandas.core.frame.DataFrame'>\n",
            "RangeIndex: 270 entries, 0 to 269\n",
            "Data columns (total 14 columns):\n",
            " #   Column    Non-Null Count  Dtype  \n",
            "---  ------    --------------  -----  \n",
            " 0   age       270 non-null    int64  \n",
            " 1   sex       270 non-null    int64  \n",
            " 2   cp        270 non-null    int64  \n",
            " 3   trestbps  270 non-null    int64  \n",
            " 4   chol      270 non-null    int64  \n",
            " 5   fbs       270 non-null    int64  \n",
            " 6   restecg   270 non-null    int64  \n",
            " 7   thalach   270 non-null    int64  \n",
            " 8   exang     270 non-null    int64  \n",
            " 9   oldpeak   270 non-null    float64\n",
            " 10  slope     270 non-null    int64  \n",
            " 11  ca        270 non-null    int64  \n",
            " 12  thal      270 non-null    int64  \n",
            " 13  num       270 non-null    object \n",
            "dtypes: float64(1), int64(12), object(1)\n",
            "memory usage: 29.7+ KB\n"
          ]
        }
      ]
    },
    {
      "cell_type": "markdown",
      "source": [
        "There are several unique values in each column and the data description. Duplicated data can be handled or removed based on further analysis. Here I believe it is normal to have duplicate values. \n"
      ],
      "metadata": {
        "id": "4Ta8NXx8w-KH"
      }
    },
    {
      "cell_type": "code",
      "source": [
        "# df.nunique is based on several unique values in each column and the data \n",
        "# description, we can identify the continuous and categorical columns in the \n",
        "# data. \n",
        "df.nunique()"
      ],
      "metadata": {
        "colab": {
          "base_uri": "https://localhost:8080/"
        },
        "id": "69MAee4mbRHj",
        "outputId": "f18ebec7-6ce8-44d9-f780-bb03e7401663"
      },
      "execution_count": 70,
      "outputs": [
        {
          "output_type": "execute_result",
          "data": {
            "text/plain": [
              "age          41\n",
              "sex           2\n",
              "cp            4\n",
              "trestbps     47\n",
              "chol        144\n",
              "fbs           2\n",
              "restecg       3\n",
              "thalach      90\n",
              "exang         2\n",
              "oldpeak      39\n",
              "slope         3\n",
              "ca            4\n",
              "thal          3\n",
              "num           2\n",
              "dtype: int64"
            ]
          },
          "metadata": {},
          "execution_count": 70
        }
      ]
    },
    {
      "cell_type": "markdown",
      "source": [
        "We see that we don't have any missing records in this dataset. Which is good.\n"
      ],
      "metadata": {
        "id": "9ic2YcUHyxSJ"
      }
    },
    {
      "cell_type": "code",
      "source": [
        "# df.isnull.sum is used to get the number of missing records in each column.\n",
        "df.isnull().sum()"
      ],
      "metadata": {
        "colab": {
          "base_uri": "https://localhost:8080/"
        },
        "id": "zOpGJgAEbblQ",
        "outputId": "85ce1b7d-72b1-4621-f8ae-fca912fdb9fc"
      },
      "execution_count": 71,
      "outputs": [
        {
          "output_type": "execute_result",
          "data": {
            "text/plain": [
              "age         0\n",
              "sex         0\n",
              "cp          0\n",
              "trestbps    0\n",
              "chol        0\n",
              "fbs         0\n",
              "restecg     0\n",
              "thalach     0\n",
              "exang       0\n",
              "oldpeak     0\n",
              "slope       0\n",
              "ca          0\n",
              "thal        0\n",
              "num         0\n",
              "dtype: int64"
            ]
          },
          "metadata": {},
          "execution_count": 71
        }
      ]
    },
    {
      "cell_type": "markdown",
      "source": [
        "Below we can see the count of each observation which is 270. Average age is 54. The younges age is 29 and the oldest is 77. Standard deviation is 9.1. The average patient with chest pain is non-anginal pain. The minimum is typical angina and the max is asymptomatic. Average blood pressure is 131 and the minimum is 94 and the max is 200. Average cholesterol count is 249, the min is 126 and the max is 564. Etc.\n",
        "\n",
        "Note that this is not accurate since data cleaning has to be done. \n"
      ],
      "metadata": {
        "id": "jLTN8Fhtzz3l"
      }
    },
    {
      "cell_type": "code",
      "source": [
        "# df.describe provides a statistics summary of data belonging to numerical \n",
        "# datatype such as int, float.\n",
        "df.describe()"
      ],
      "metadata": {
        "colab": {
          "base_uri": "https://localhost:8080/",
          "height": 364
        },
        "id": "TQ5bXAJ5b_zW",
        "outputId": "9709e826-b54a-4ca4-af0c-42bbc4f25036"
      },
      "execution_count": 72,
      "outputs": [
        {
          "output_type": "execute_result",
          "data": {
            "text/plain": [
              "              age         sex          cp    trestbps        chol         fbs  \\\n",
              "count  270.000000  270.000000  270.000000  270.000000  270.000000  270.000000   \n",
              "mean    54.433333    0.677778    3.174074  131.344444  249.659259    0.148148   \n",
              "std      9.109067    0.468195    0.950090   17.861608   51.686237    0.355906   \n",
              "min     29.000000    0.000000    1.000000   94.000000  126.000000    0.000000   \n",
              "25%     48.000000    0.000000    3.000000  120.000000  213.000000    0.000000   \n",
              "50%     55.000000    1.000000    3.000000  130.000000  245.000000    0.000000   \n",
              "75%     61.000000    1.000000    4.000000  140.000000  280.000000    0.000000   \n",
              "max     77.000000    1.000000    4.000000  200.000000  564.000000    1.000000   \n",
              "\n",
              "          restecg     thalach       exang    oldpeak       slope          ca  \\\n",
              "count  270.000000  270.000000  270.000000  270.00000  270.000000  270.000000   \n",
              "mean     1.022222  149.677778    0.329630    1.05000    1.585185    0.670370   \n",
              "std      0.997891   23.165717    0.470952    1.14521    0.614390    0.943896   \n",
              "min      0.000000   71.000000    0.000000    0.00000    1.000000    0.000000   \n",
              "25%      0.000000  133.000000    0.000000    0.00000    1.000000    0.000000   \n",
              "50%      2.000000  153.500000    0.000000    0.80000    2.000000    0.000000   \n",
              "75%      2.000000  166.000000    1.000000    1.60000    2.000000    1.000000   \n",
              "max      2.000000  202.000000    1.000000    6.20000    3.000000    3.000000   \n",
              "\n",
              "             thal  \n",
              "count  270.000000  \n",
              "mean     4.696296  \n",
              "std      1.940659  \n",
              "min      3.000000  \n",
              "25%      3.000000  \n",
              "50%      3.000000  \n",
              "75%      7.000000  \n",
              "max      7.000000  "
            ],
            "text/html": [
              "\n",
              "  <div id=\"df-73605cde-9b7e-4b7b-b835-5857e994c308\">\n",
              "    <div class=\"colab-df-container\">\n",
              "      <div>\n",
              "<style scoped>\n",
              "    .dataframe tbody tr th:only-of-type {\n",
              "        vertical-align: middle;\n",
              "    }\n",
              "\n",
              "    .dataframe tbody tr th {\n",
              "        vertical-align: top;\n",
              "    }\n",
              "\n",
              "    .dataframe thead th {\n",
              "        text-align: right;\n",
              "    }\n",
              "</style>\n",
              "<table border=\"1\" class=\"dataframe\">\n",
              "  <thead>\n",
              "    <tr style=\"text-align: right;\">\n",
              "      <th></th>\n",
              "      <th>age</th>\n",
              "      <th>sex</th>\n",
              "      <th>cp</th>\n",
              "      <th>trestbps</th>\n",
              "      <th>chol</th>\n",
              "      <th>fbs</th>\n",
              "      <th>restecg</th>\n",
              "      <th>thalach</th>\n",
              "      <th>exang</th>\n",
              "      <th>oldpeak</th>\n",
              "      <th>slope</th>\n",
              "      <th>ca</th>\n",
              "      <th>thal</th>\n",
              "    </tr>\n",
              "  </thead>\n",
              "  <tbody>\n",
              "    <tr>\n",
              "      <th>count</th>\n",
              "      <td>270.000000</td>\n",
              "      <td>270.000000</td>\n",
              "      <td>270.000000</td>\n",
              "      <td>270.000000</td>\n",
              "      <td>270.000000</td>\n",
              "      <td>270.000000</td>\n",
              "      <td>270.000000</td>\n",
              "      <td>270.000000</td>\n",
              "      <td>270.000000</td>\n",
              "      <td>270.00000</td>\n",
              "      <td>270.000000</td>\n",
              "      <td>270.000000</td>\n",
              "      <td>270.000000</td>\n",
              "    </tr>\n",
              "    <tr>\n",
              "      <th>mean</th>\n",
              "      <td>54.433333</td>\n",
              "      <td>0.677778</td>\n",
              "      <td>3.174074</td>\n",
              "      <td>131.344444</td>\n",
              "      <td>249.659259</td>\n",
              "      <td>0.148148</td>\n",
              "      <td>1.022222</td>\n",
              "      <td>149.677778</td>\n",
              "      <td>0.329630</td>\n",
              "      <td>1.05000</td>\n",
              "      <td>1.585185</td>\n",
              "      <td>0.670370</td>\n",
              "      <td>4.696296</td>\n",
              "    </tr>\n",
              "    <tr>\n",
              "      <th>std</th>\n",
              "      <td>9.109067</td>\n",
              "      <td>0.468195</td>\n",
              "      <td>0.950090</td>\n",
              "      <td>17.861608</td>\n",
              "      <td>51.686237</td>\n",
              "      <td>0.355906</td>\n",
              "      <td>0.997891</td>\n",
              "      <td>23.165717</td>\n",
              "      <td>0.470952</td>\n",
              "      <td>1.14521</td>\n",
              "      <td>0.614390</td>\n",
              "      <td>0.943896</td>\n",
              "      <td>1.940659</td>\n",
              "    </tr>\n",
              "    <tr>\n",
              "      <th>min</th>\n",
              "      <td>29.000000</td>\n",
              "      <td>0.000000</td>\n",
              "      <td>1.000000</td>\n",
              "      <td>94.000000</td>\n",
              "      <td>126.000000</td>\n",
              "      <td>0.000000</td>\n",
              "      <td>0.000000</td>\n",
              "      <td>71.000000</td>\n",
              "      <td>0.000000</td>\n",
              "      <td>0.00000</td>\n",
              "      <td>1.000000</td>\n",
              "      <td>0.000000</td>\n",
              "      <td>3.000000</td>\n",
              "    </tr>\n",
              "    <tr>\n",
              "      <th>25%</th>\n",
              "      <td>48.000000</td>\n",
              "      <td>0.000000</td>\n",
              "      <td>3.000000</td>\n",
              "      <td>120.000000</td>\n",
              "      <td>213.000000</td>\n",
              "      <td>0.000000</td>\n",
              "      <td>0.000000</td>\n",
              "      <td>133.000000</td>\n",
              "      <td>0.000000</td>\n",
              "      <td>0.00000</td>\n",
              "      <td>1.000000</td>\n",
              "      <td>0.000000</td>\n",
              "      <td>3.000000</td>\n",
              "    </tr>\n",
              "    <tr>\n",
              "      <th>50%</th>\n",
              "      <td>55.000000</td>\n",
              "      <td>1.000000</td>\n",
              "      <td>3.000000</td>\n",
              "      <td>130.000000</td>\n",
              "      <td>245.000000</td>\n",
              "      <td>0.000000</td>\n",
              "      <td>2.000000</td>\n",
              "      <td>153.500000</td>\n",
              "      <td>0.000000</td>\n",
              "      <td>0.80000</td>\n",
              "      <td>2.000000</td>\n",
              "      <td>0.000000</td>\n",
              "      <td>3.000000</td>\n",
              "    </tr>\n",
              "    <tr>\n",
              "      <th>75%</th>\n",
              "      <td>61.000000</td>\n",
              "      <td>1.000000</td>\n",
              "      <td>4.000000</td>\n",
              "      <td>140.000000</td>\n",
              "      <td>280.000000</td>\n",
              "      <td>0.000000</td>\n",
              "      <td>2.000000</td>\n",
              "      <td>166.000000</td>\n",
              "      <td>1.000000</td>\n",
              "      <td>1.60000</td>\n",
              "      <td>2.000000</td>\n",
              "      <td>1.000000</td>\n",
              "      <td>7.000000</td>\n",
              "    </tr>\n",
              "    <tr>\n",
              "      <th>max</th>\n",
              "      <td>77.000000</td>\n",
              "      <td>1.000000</td>\n",
              "      <td>4.000000</td>\n",
              "      <td>200.000000</td>\n",
              "      <td>564.000000</td>\n",
              "      <td>1.000000</td>\n",
              "      <td>2.000000</td>\n",
              "      <td>202.000000</td>\n",
              "      <td>1.000000</td>\n",
              "      <td>6.20000</td>\n",
              "      <td>3.000000</td>\n",
              "      <td>3.000000</td>\n",
              "      <td>7.000000</td>\n",
              "    </tr>\n",
              "  </tbody>\n",
              "</table>\n",
              "</div>\n",
              "      <button class=\"colab-df-convert\" onclick=\"convertToInteractive('df-73605cde-9b7e-4b7b-b835-5857e994c308')\"\n",
              "              title=\"Convert this dataframe to an interactive table.\"\n",
              "              style=\"display:none;\">\n",
              "        \n",
              "  <svg xmlns=\"http://www.w3.org/2000/svg\" height=\"24px\"viewBox=\"0 0 24 24\"\n",
              "       width=\"24px\">\n",
              "    <path d=\"M0 0h24v24H0V0z\" fill=\"none\"/>\n",
              "    <path d=\"M18.56 5.44l.94 2.06.94-2.06 2.06-.94-2.06-.94-.94-2.06-.94 2.06-2.06.94zm-11 1L8.5 8.5l.94-2.06 2.06-.94-2.06-.94L8.5 2.5l-.94 2.06-2.06.94zm10 10l.94 2.06.94-2.06 2.06-.94-2.06-.94-.94-2.06-.94 2.06-2.06.94z\"/><path d=\"M17.41 7.96l-1.37-1.37c-.4-.4-.92-.59-1.43-.59-.52 0-1.04.2-1.43.59L10.3 9.45l-7.72 7.72c-.78.78-.78 2.05 0 2.83L4 21.41c.39.39.9.59 1.41.59.51 0 1.02-.2 1.41-.59l7.78-7.78 2.81-2.81c.8-.78.8-2.07 0-2.86zM5.41 20L4 18.59l7.72-7.72 1.47 1.35L5.41 20z\"/>\n",
              "  </svg>\n",
              "      </button>\n",
              "      \n",
              "  <style>\n",
              "    .colab-df-container {\n",
              "      display:flex;\n",
              "      flex-wrap:wrap;\n",
              "      gap: 12px;\n",
              "    }\n",
              "\n",
              "    .colab-df-convert {\n",
              "      background-color: #E8F0FE;\n",
              "      border: none;\n",
              "      border-radius: 50%;\n",
              "      cursor: pointer;\n",
              "      display: none;\n",
              "      fill: #1967D2;\n",
              "      height: 32px;\n",
              "      padding: 0 0 0 0;\n",
              "      width: 32px;\n",
              "    }\n",
              "\n",
              "    .colab-df-convert:hover {\n",
              "      background-color: #E2EBFA;\n",
              "      box-shadow: 0px 1px 2px rgba(60, 64, 67, 0.3), 0px 1px 3px 1px rgba(60, 64, 67, 0.15);\n",
              "      fill: #174EA6;\n",
              "    }\n",
              "\n",
              "    [theme=dark] .colab-df-convert {\n",
              "      background-color: #3B4455;\n",
              "      fill: #D2E3FC;\n",
              "    }\n",
              "\n",
              "    [theme=dark] .colab-df-convert:hover {\n",
              "      background-color: #434B5C;\n",
              "      box-shadow: 0px 1px 3px 1px rgba(0, 0, 0, 0.15);\n",
              "      filter: drop-shadow(0px 1px 2px rgba(0, 0, 0, 0.3));\n",
              "      fill: #FFFFFF;\n",
              "    }\n",
              "  </style>\n",
              "\n",
              "      <script>\n",
              "        const buttonEl =\n",
              "          document.querySelector('#df-73605cde-9b7e-4b7b-b835-5857e994c308 button.colab-df-convert');\n",
              "        buttonEl.style.display =\n",
              "          google.colab.kernel.accessAllowed ? 'block' : 'none';\n",
              "\n",
              "        async function convertToInteractive(key) {\n",
              "          const element = document.querySelector('#df-73605cde-9b7e-4b7b-b835-5857e994c308');\n",
              "          const dataTable =\n",
              "            await google.colab.kernel.invokeFunction('convertToInteractive',\n",
              "                                                     [key], {});\n",
              "          if (!dataTable) return;\n",
              "\n",
              "          const docLinkHtml = 'Like what you see? Visit the ' +\n",
              "            '<a target=\"_blank\" href=https://colab.research.google.com/notebooks/data_table.ipynb>data table notebook</a>'\n",
              "            + ' to learn more about interactive tables.';\n",
              "          element.innerHTML = '';\n",
              "          dataTable['output_type'] = 'display_data';\n",
              "          await google.colab.output.renderOutput(dataTable, element);\n",
              "          const docLink = document.createElement('div');\n",
              "          docLink.innerHTML = docLinkHtml;\n",
              "          element.appendChild(docLink);\n",
              "        }\n",
              "      </script>\n",
              "    </div>\n",
              "  </div>\n",
              "  "
            ]
          },
          "metadata": {},
          "execution_count": 72
        }
      ]
    },
    {
      "cell_type": "markdown",
      "source": [
        "Below df.hist is just a quick guide to get an overview of the attributes we have. Later in my project I will show a better graph to give a clearer look of my analysis. You can see that age is more skewed to the right, meaning that there are more older patients then younger patient in this dataset. It looks like there are more female pateint then male patient. There seems to be more patient with asymptomatic in chest pain. Blood pressure seems left skewed, which could mean that not many patient have higher blood pressure. Cholesterol seems left skewed, not many patient with very high choloesterol. Fbs seems more patient at less count then high count. Looks like is 50/50 for patients with normal restecg and showing probable or definite left ventricular hypertrophy by Estes' criteria. But is a little more patient showing probable or definite left ventricular hypertrophy by Estes' criteria. For thalac is right skewed showing more patient have maximum heart rate achieved (Numeric value between 60 and 202). Exang is left skewed, which means there are more patient that have exercise increase angina. Oldpeak seems left skewed, which means less patient have ST depression induced by exercise relative to rest. There are more patient with slope of the peak exercise ST segment is upsloping followed by flat. There was more patients with 0 number of major vessels (0-3) colored by flourosopy. There were more patient normal followed by reversable defect. "
      ],
      "metadata": {
        "id": "4_xTZoO65QP6"
      }
    },
    {
      "cell_type": "code",
      "source": [
        "# df.hist gives the measurement of each variables from the columns.\n",
        "df.hist()"
      ],
      "metadata": {
        "colab": {
          "base_uri": "https://localhost:8080/",
          "height": 588
        },
        "id": "rDTdy0D8eAFu",
        "outputId": "fbe6c744-35df-434d-bc34-9b1d4b65ed18"
      },
      "execution_count": 73,
      "outputs": [
        {
          "output_type": "execute_result",
          "data": {
            "text/plain": [
              "array([[<Axes: title={'center': 'age'}>, <Axes: title={'center': 'sex'}>,\n",
              "        <Axes: title={'center': 'cp'}>,\n",
              "        <Axes: title={'center': 'trestbps'}>],\n",
              "       [<Axes: title={'center': 'chol'}>,\n",
              "        <Axes: title={'center': 'fbs'}>,\n",
              "        <Axes: title={'center': 'restecg'}>,\n",
              "        <Axes: title={'center': 'thalach'}>],\n",
              "       [<Axes: title={'center': 'exang'}>,\n",
              "        <Axes: title={'center': 'oldpeak'}>,\n",
              "        <Axes: title={'center': 'slope'}>,\n",
              "        <Axes: title={'center': 'ca'}>],\n",
              "       [<Axes: title={'center': 'thal'}>, <Axes: >, <Axes: >, <Axes: >]],\n",
              "      dtype=object)"
            ]
          },
          "metadata": {},
          "execution_count": 73
        },
        {
          "output_type": "display_data",
          "data": {
            "text/plain": [
              "<Figure size 576x396 with 16 Axes>"
            ],
            "image/png": "[encoded data removed]"
          },
          "metadata": {}
        }
      ]
    },
    {
      "cell_type": "markdown",
      "source": [
        "Just with the above information I don't need to do that much cleaning but just rename columns and change some of the values to string, for example the sex column. Some string to values, for example the num column. \n",
        "\n",
        "As per what I can see with the above graph patients with left ventricular hypertrophy, thalach - maximum heart rate achieved (Numeric value between 60 and 202), Exang, exercise increase angina, the upsloping or flat the slope of the peak exercise ST segment, 0 number of major vessels, and diagnosis of heart disease (angiographic disease status) (the predicted attribute) have more chances of developing heart disease. \n",
        "\n",
        "In order to find out if we can predict if a person is prone to a heart disease or not we will need to perform more visiual analyzation and machine learning and statistical modeling."
      ],
      "metadata": {
        "id": "dHREBhhGLMzv"
      }
    }
  ]
}